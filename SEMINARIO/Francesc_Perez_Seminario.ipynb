{
  "nbformat": 4,
  "nbformat_minor": 0,
  "metadata": {
    "colab": {
      "name": "Francesc Perez - Seminario.ipynb",
      "version": "0.3.2",
      "provenance": [],
      "collapsed_sections": [],
      "include_colab_link": true
    },
    "kernelspec": {
      "name": "python3",
      "display_name": "Python 3"
    }
  },
  "cells": [
    {
      "cell_type": "markdown",
      "metadata": {
        "id": "view-in-github",
        "colab_type": "text"
      },
      "source": [
        "<a href=\"https://colab.research.google.com/github/franzeszperez/03MAIR-Algoritmos-de-optimizacion/blob/master/SEMINARIO/Francesc_Perez_Seminario.ipynb\" target=\"_parent\"><img src=\"https://colab.research.google.com/assets/colab-badge.svg\" alt=\"Open In Colab\"/></a>"
      ]
    },
    {
      "metadata": {
        "id": "hVbXYX-RfPWh",
        "colab_type": "text"
      },
      "cell_type": "markdown",
      "source": [
        "# Algoritmos de optimización - Seminario\n",
        "Nombre y Apellidos:  Francesc Pérez\n",
        "\n",
        "Url: https://github.com/franzeszperez/03MAIR-Algoritmos-de-optimizacion/tree/master/SEMINARIO\n",
        "\n",
        "\n",
        "---\n",
        "\n",
        "\n",
        "Problema:\n",
        "> 1. Elección de grupos de población homogéneos\n",
        "\n",
        "Descripción del problema: \n",
        "El problema consiste en clasificar N animales en grupos para aplicar 3 tratamiento diferentes. Para cada tratamiento se deberá seleccionar 3 grupos de terneros que sean los más homogéneos posibles en peso, con el fin de que esta variable no influya en el tratamiento. Es decir, deberán conseguirse grupos que sean lo menos dispersos posibles entre sí, y lo más parecidos en media entre grupos.  \n",
        "\n",
        "\n",
        "\n",
        "\n",
        "\n",
        "                                        "
      ]
    },
    {
      "metadata": {
        "id": "3_-exlrTgLd-",
        "colab_type": "text"
      },
      "cell_type": "markdown",
      "source": [
        "**(*)¿Cuantas posibilidades hay sin tener en cuenta las restricciones?**\n",
        "\n",
        "**¿Cuantas posibilidades hay teniendo en cuenta todas las restricciones.**\n",
        "\n",
        "\n"
      ]
    },
    {
      "metadata": {
        "id": "WfCUqJyKhPcw",
        "colab_type": "text"
      },
      "cell_type": "markdown",
      "source": [
        "Respuesta:\n",
        "\n",
        "Para el caso particular del problema de la elección de grupos homogéneos, el cálculo de posibilidades por cada ejecución del algoritmo es sencillo.\n",
        "\n",
        "Se parten de un número N de terneros de entrada, a dividir entre 3 tratamientos y 3 grupos por cada tratamiento, por lo que a efectos prácticos hay que repartir los N terneros de entrada en 9 clústers. En este caso, se plantea una solucion que vaya construyendo los grupos iterativamente.\n",
        "\n",
        "Para el primer ternero, hay disponibles N ciudades, puesto que todos los grupos están vacíos. Una vez añadido un ternero, quedan N-1 posibilidades. En la tercera iteración, habrá N-2 opciones. Por lo tanto, se está hablando de un cálculo de N*(N-1)*(N-2)*...*1*, es decir, de N!\n",
        "\n",
        "En este caso, la restricción es que haya el mismo número de animales en cada uno de los clústers. Sin embargo, este hecho no afecta al número de posibilidades a elegir. "
      ]
    },
    {
      "metadata": {
        "id": "dzynfVJahHoY",
        "colab_type": "text"
      },
      "cell_type": "markdown",
      "source": [
        "**Modelo para el espacio de soluciones**\n",
        "\n",
        "**(*) ¿Cual es la estructura de datos que mejor se adapta al problema? Arguméntalo.(Es posible que hayas elegido una al principio y veas la necesidad de cambiar, arguméntalo)**\n"
      ]
    },
    {
      "metadata": {
        "id": "xFIJrOwKi2Ti",
        "colab_type": "text"
      },
      "cell_type": "markdown",
      "source": [
        "Respuesta:\n",
        "\n",
        "Para la ejecución de este problema se tendrá un total de N animales. De esos N, se dividirán en machos y hembras, siendo N = N_machos + N_hembras, donde el número de terneros por cada sexo no tiene porqué ser el mismo.\n",
        "\n",
        "Por tanto, el algoritmo recibirá un vector de tamaño N_machos o N_hembras, en función de la ejecución.\n",
        "\n",
        "Para las soluciones del problema se debe buscar una estructura que permita agrupar cada uno de los tres tratamientos y cada uno de los tres grupos pertenecientes a cada tratamiento. Por ello, se ha optado por una matriz de 3 dimensiones, donde la tercera dimensión es cada uno de los tratamientos, cada columna es cada grupo dentro de un tratamiento, y los elementos de cada fila son cada uno de los animales que forman el grupo. Por lo tanto, esta matriz 3D tendrá un tamaño de 3 tratamientosx3 gruposxK elementos.\n",
        "\n",
        "De la propia naturaleza de la matriz, cabe destacar que todos los grupos tendrán el mismo número de elementos, por lo que es probable que haya que descartar alguno de los animales. De hecho, de los N animales, sólo se seleccionarán K, que será igual al múltiplo de 9 (TratamientosxGrupos) más cercano al total de animales. Por ejemplo, en el caso de una ejecución con 100 animales, se van a usar 99 animales (11 por grupo y 33 por tratamiento), descartando 1 animal.  "
      ]
    },
    {
      "metadata": {
        "id": "7Z9U2W7bi-XS",
        "colab_type": "text"
      },
      "cell_type": "markdown",
      "source": [
        "**Según el modelo para el espacio de soluciones**\n",
        "\n",
        "**(*)¿Cual es la función objetivo?**\n",
        "\n",
        "**(*)¿Es un problema de maximización o minimización?**"
      ]
    },
    {
      "metadata": {
        "id": "hBalWLM7j1_d",
        "colab_type": "text"
      },
      "cell_type": "markdown",
      "source": [
        "Respuesta:\n",
        "\n",
        "La especificación del problema pide que los grupos sean lo más homogéneos posibles en peso. Eso, traducido a lenguaje matemático, significa que los grupos deben tener la menor dispersión (varianza posible). Por lo tanto, se trata de un problema de minimización en que la función objetivo es la varianza de cada grupo."
      ]
    },
    {
      "metadata": {
        "id": "REvgpBDnQ8qu",
        "colab_type": "code",
        "colab": {}
      },
      "cell_type": "code",
      "source": [
        "import sys\n",
        "# Función que busca el valor más cercano de un conjunto a un punto dado.\n",
        "def punto_mas_cercano(punto, conjunto):\n",
        "  animales = desempaquetar(conjunto)\n",
        "  distancias = list(map(lambda x: abs(x - punto), animales))\n",
        "  return np.argmin(distancias)\n",
        "  \n",
        "# Función que calcula la dispersión de cada clúster con el animal dado y lo clasifica en el grupo donde se consiga una menor \n",
        "# dispersión.\n",
        "def calcula_dispersion(clusters, max_array, animal):\n",
        "  added = False\n",
        "  dispersion_min = sys.maxsize\n",
        "  posicion_min = None\n",
        "  outliers = []\n",
        "  # Se recorre cada uno de los clústers\n",
        "  for i in range(len(clusters)):\n",
        "    # Si el clúster ha alcanzado su valor máximo, se pasa a la siguiente iteración\n",
        "    if len(clusters[i])==max_array:\n",
        "      continue\n",
        "    elif len(clusters[i])==1:\n",
        "      # Si el clúster tiene sólo un elemento, se usa la distancia euclídea para\n",
        "      # clasificar al animal.\n",
        "      if abs(clusters[i][0][1] - animal[1]) < dispersion_min:\n",
        "        posicion_min = i\n",
        "        dispersion_min = abs(clusters[i][0][1] - animal[1])\n",
        "        added = True\n",
        "    else:\n",
        "      # Se calcula la varianza sin el animal.\n",
        "      var_antigua = np.var([[clusters[i][w][1]] for w in range(len(clusters[i]))])\n",
        "      # Se añade el animal al clúster y se calcula la varianza otra vez.\n",
        "      candidato = clusters[i] + [animal]\n",
        "      var_nueva = np.var(([[candidato[w][1]] for w in range(len(candidato))]))\n",
        "      # Se computa el ratio de aumento de varianza\n",
        "      aumento = var_nueva/var_antigua\n",
        "      # Si la suma de la varianza antigua y el aumento es menor a la mínima dispersión, se almacena la posición del cluster.\n",
        "      if var_antigua+aumento < dispersion_min:\n",
        "        posicion_min = i\n",
        "        dispersion_min = aumento\n",
        "        added = True\n",
        "  # Por último, se guarda en el clúster óptimo el nuevo animal.\n",
        "  if not(posicion_min is None):\n",
        "    clusters[posicion_min] = clusters[posicion_min] + [animal]\n",
        "  else:\n",
        "    outliers = animal\n",
        "   \n",
        "  return added, clusters, outliers  "
      ],
      "execution_count": 0,
      "outputs": []
    },
    {
      "metadata": {
        "id": "rlnTYgY1j6I2",
        "colab_type": "text"
      },
      "cell_type": "markdown",
      "source": [
        "Diseña un algoritmo para resolver el problema por fuerza bruta"
      ]
    },
    {
      "metadata": {
        "id": "tgrnsC2nkFa8",
        "colab_type": "text"
      },
      "cell_type": "markdown",
      "source": [
        "Calcula la complejidad del algoritmo por fuerza bruta"
      ]
    },
    {
      "metadata": {
        "id": "txbrmLmskReM",
        "colab_type": "text"
      },
      "cell_type": "markdown",
      "source": [
        "**(*)Diseña un algoritmo que mejore la complejidad del algoritmo por fuerza bruta. Argumenta por qué crees que mejora el algoritmo por fuerza bruta.**"
      ]
    },
    {
      "metadata": {
        "id": "hLrVwt5QkZPD",
        "colab_type": "text"
      },
      "cell_type": "markdown",
      "source": [
        "Respuesta\n",
        "\n",
        "El algoritmo desarrollado se trata de un algoritmo voraz. En este caso, se va a elegir la solución óptima en cada iteración, consistente en añadir cada animal al grupo donde se obtenga una menor varianza. De esta forma, al finalizar todas las iteraciones, se habrá obtenido la solución óptima global.\n",
        "\n",
        "La estrategia a seguir es la siguiente. Se van a hacer 9 segmentos (1 por grupo) equidistantes en el intervalo (media +- dos desviaciones). Se busca el dato más cercano al punto medio de cada uno de los segmentos, y se usa para inicializar cada uno de los clústers.\n",
        "\n",
        "Una vez inicializado, se va a proceder a rellenar cada uno de los clústers. Para ello, se van a recorrer todos los animales disponibles, y se va a comparar la varianza de cada uno de los clústers, guardando el dato en el clúster en que se obtenga una menor varianza, y continuando con el siguiente animal. A parte de eso, se establece la limitación de que cada uno de los clústers tenga un número máximo permitido de elementos. \n",
        "\n",
        "Al finalizar el proceso de relleno de los clústers, se debe agrupar los grupos en 3 tratamientos. El criterio elegido ha sido el de elegir los grupos que tengan la media más cercana. Para ello, se ordenan los grupos en función de su media y se escogen los tres primeros para el tratamiento 1, los tres segundos para el 2 y los tres últimos para el 3."
      ]
    },
    {
      "metadata": {
        "id": "m1eyM21Vkabg",
        "colab_type": "code",
        "colab": {}
      },
      "cell_type": "code",
      "source": [
        "def agrupar_animales(n_tratamientos, n_grupos, conjunto):\n",
        "  animales = conjunto.copy()\n",
        "  animales = desempaquetar(animales)\n",
        "  # Cálculo del tamaño máximo del cluster\n",
        "  max_array = len(animales)//(n_tratamientos*n_grupos)\n",
        "  \n",
        "  # Inicialización \n",
        "  clusters = [[] for x in range(n_tratamientos*n_grupos)]\n",
        "  # Se definen los segmentos equidistantes donde empezará cada clúster,\n",
        "  # y el origen por dónde empezar a buscar\n",
        "  segmento = (np.mean(animales) + 2*np.std(animales, ddof=1) - (np.mean(animales) - 2*np.std(animales, ddof=1)))/(n_tratamientos*n_grupos)\n",
        "  origen = np.mean(animales) - 2*np.std(animales, ddof=1) \n",
        "  # Bucle para recorrer los clústers e inicializarlos\n",
        "  for i in range(n_tratamientos*n_grupos):\n",
        "    punto = origen + segmento/2\n",
        "    cercano = punto_mas_cercano(punto, conjunto)\n",
        "    clusters[i] = [conjunto[cercano]]\n",
        "    origen = origen + segmento\n",
        "    del animales[cercano]\n",
        "  \n",
        "  outliers = []\n",
        "  candidatos = conjunto.copy()\n",
        "  contadora = 0\n",
        "  tamano_candidatos = 0\n",
        "  # While con el número máximo de pasadas que se hacen, por si hay nuevos datos a analizar.\n",
        "  while contadora<10:\n",
        "    descartados = []\n",
        "    for j in range(len(candidatos)):\n",
        "      # Se calcula la dispersión de cada uno de los clústers con el candidato y se devuelve el clúster relleno\n",
        "      added, clusters, outliers = calcula_dispersion(clusters, max_array, candidatos[j]) \n",
        "      if added == False:\n",
        "        # Si no se ha añadido a ningún clúster, se almacena\n",
        "        descartados = descartados + [outliers]\n",
        "    \n",
        "    # Los candidatos ahora son los datos que no se han clasificado en ningún grupo\n",
        "    candidatos = descartados\n",
        "    # Si el tamaño de los candidatos es igual al tamaño anterior, se sale del bucle, porque no ha habido cambios\n",
        "    if len(candidatos) == tamano_candidatos:\n",
        "      break\n",
        "    tamano_candidatos = len(candidatos)\n",
        "    contadora = contadora + 1\n",
        "\n",
        "  # Se ordena la lista en función de la media de cada clúster\n",
        "  medias = list()\n",
        "  for k in range(n_tratamientos*n_grupos):\n",
        "    data = (k, np.mean([[clusters[k][w][1]] for w in range(len(clusters[k]))]))\n",
        "    medias.append(data)\n",
        "  medias = sorted(medias, key = lambda x:x[1])\n",
        "  \n",
        "  indices = [medias[w][0] for w in range(len(medias))]\n",
        "  # Se clasifican los grupos en los distintos tratamientos\n",
        "  tratamiento1 = clusters[indices[0]] + clusters[indices[1]] + clusters[indices[2]] \n",
        "  tratamiento2 = clusters[indices[3]] + clusters[indices[4]] + clusters[indices[5]]\n",
        "  tratamiento3 = clusters[indices[6]] + clusters[indices[7]] + clusters[indices[8]]\n",
        "    \n",
        "  return tratamiento1, tratamiento2, tratamiento3"
      ],
      "execution_count": 0,
      "outputs": []
    },
    {
      "metadata": {
        "id": "eGDB4K6uk1iN",
        "colab_type": "text"
      },
      "cell_type": "markdown",
      "source": [
        "**(*)Calcula la complejidad del algoritmo.**"
      ]
    },
    {
      "metadata": {
        "id": "NhpTh_BPk1ms",
        "colab_type": "text"
      },
      "cell_type": "markdown",
      "source": [
        "Respuesta\n",
        "\n",
        "Dado que el número de animales se recorre sólo una vez, la complejidad del algoritmo es de O(n). Este número es distinto al número operaciones, que es mayor, ya que se recorre varias veces la longitud de los clústers (9)."
      ]
    },
    {
      "metadata": {
        "id": "3M6QjTsSkmYe",
        "colab_type": "text"
      },
      "cell_type": "markdown",
      "source": [
        "**Según el problema (y tenga sentido), diseña un juego de datos de entrada aleatorios**"
      ]
    },
    {
      "metadata": {
        "id": "yXY7W55JP-HM",
        "colab_type": "text"
      },
      "cell_type": "markdown",
      "source": [
        "Respuesta\n",
        "\n",
        "Se va a generar un conjunto de datos que siga una distribución normal con los parámetros que se determinan en las especificaciones del problema. En este caso, se va a usar una media de 37 y una desviación de 2.1. Para el tamaño total del conjunto, se ha elegido usar 800 individuos."
      ]
    },
    {
      "metadata": {
        "id": "NB0yZp8yOrpM",
        "colab_type": "code",
        "colab": {}
      },
      "cell_type": "code",
      "source": [
        "import numpy as np\n",
        "from operator import itemgetter\n",
        "import matplotlib.pyplot as plt\n",
        "\n",
        "# Función para generar los datos, siguiendo una distribución normal con una media y una desviación dadas.\n",
        "def generar_datos(media, desviacion, total):\n",
        "  a = np.random.normal(media, desviacion, total)\n",
        "  return [(i, a[i]) for i in range(total)]\n",
        "\n",
        "# Función para desempaquetar los valores del peso de las tuplas\n",
        "def desempaquetar(ganado):\n",
        "  return list(map(itemgetter(1), ganado))\n",
        "\n",
        "# Función para comprobar que los parámetros reales se acercan a los teóricos y para mostrar el histograma de los datos.\n",
        "def comprobar_datos(media, desviacion, ganado):\n",
        "  media_real = np.mean(ganado)\n",
        "  desviacion_real = np.std(ganado, ddof=1)\n",
        "  print(\"Media teórica: \" + str(media) + \". Media real: \" + str(media_real))\n",
        "  print(\"Desviación teórica: \" + str(desviacion) + \". Desviación real: \" + str(desviacion_real))\n",
        "  \n",
        "  count, bins, ignored = plt.hist(ganado, 50, density=True)\n",
        "  plt.plot(bins, 1/(desviacion * np.sqrt(2 * np.pi)) *np.exp( - (bins - media)**2 / (2 * desviacion**2) ), \n",
        "           linewidth=2, color='r')\n",
        "  plt.show()"
      ],
      "execution_count": 0,
      "outputs": []
    },
    {
      "metadata": {
        "id": "CJJhFqECPGzF",
        "colab_type": "code",
        "colab": {
          "base_uri": "https://localhost:8080/",
          "height": 382
        },
        "outputId": "2da232db-7642-4568-f8aa-10c84b56d4df"
      },
      "cell_type": "code",
      "source": [
        "# Se determinan los parámetros que se van a usar para generar los datos.\n",
        "# · Media = 37\n",
        "# · Desviación = 2.1\n",
        "# · Número de animales = 800\n",
        "media = 37\n",
        "desviacion = 2.1\n",
        "N = 800\n",
        "ganado = generar_datos(media, desviacion, N)\n",
        "\n",
        "# Se computa la media y la desviación reales y se comparan con sus correspondientes valores teóricos.\n",
        "# Para fines de comprensión, se muestra el histograma de los datos.\n",
        "comprobar_datos(media, desviacion, desempaquetar(ganado))"
      ],
      "execution_count": 390,
      "outputs": [
        {
          "output_type": "stream",
          "text": [
            "Media teórica: 37. Media real: 37.23050826896943\n",
            "Desviación teórica: 2.1. Desviación real: 1.9746357349249033\n"
          ],
          "name": "stdout"
        },
        {
          "output_type": "display_data",
          "data": {
            "image/png": "[encoded data removed]",
            "text/plain": [
              "<Figure size 576x396 with 1 Axes>"
            ]
          },
          "metadata": {
            "tags": []
          }
        }
      ]
    },
    {
      "metadata": {
        "id": "HfwckZNHS28J",
        "colab_type": "text"
      },
      "cell_type": "markdown",
      "source": [
        "Por otro lado, llegados a este punto hay que dividir el conjunto en machos y hembras, con el fin de realizar dos ejecuciones del algoritmo. La división se hará en función de un número aleatorio, que se ha decidido que sea de 0.45, para que haya más animales de un sexo que de otro, con el fin de testear el algoritmo."
      ]
    },
    {
      "metadata": {
        "id": "le-sQKBeV-se",
        "colab_type": "code",
        "colab": {}
      },
      "cell_type": "code",
      "source": [
        "# Función para dividir el conjunto entre machos y hembras.\n",
        "def crear_machos_hembras(ganado):\n",
        "  machos = []\n",
        "  hembras = []\n",
        "  for animal in ganado:\n",
        "    if np.random.random() > 0.45:\n",
        "      hembras.append(animal)\n",
        "    else:\n",
        "      machos.append(animal)\n",
        "  return machos, hembras"
      ],
      "execution_count": 0,
      "outputs": []
    },
    {
      "metadata": {
        "id": "kqByuLhNZQ8K",
        "colab_type": "code",
        "colab": {
          "base_uri": "https://localhost:8080/",
          "height": 835
        },
        "outputId": "5c333da3-6681-4697-ecec-9a367f83eded"
      },
      "cell_type": "code",
      "source": [
        "machos, hembras = crear_machos_hembras(ganado)\n",
        "print(machos)\n",
        "print(\"Conjunto de machos\")\n",
        "comprobar_datos(media, desviacion, desempaquetar(machos))\n",
        "\n",
        "print(hembras)\n",
        "print(\"Conjunto de hembras\")\n",
        "comprobar_datos(media, desviacion, desempaquetar(hembras))"
      ],
      "execution_count": 391,
      "outputs": [
        {
          "output_type": "stream",
          "text": [
            "[(1, 39.20352235519571), (5, 36.0607787645783), (6, 37.53616818211425), (7, 37.37341003186943), (8, 39.91386109083692), (15, 39.71423537498582), (17, 41.461336984169364), (20, 37.993288015556416), (23, 36.257486946573785), (26, 37.69341857172336), (31, 39.114372630806045), (32, 34.236838422504434), (33, 36.01490148248906), (35, 38.00424521696855), (37, 35.595179339904405), (38, 36.97789131202852), (44, 40.237505358087056), (48, 38.51938756885211), (53, 41.16697289543781), (54, 40.44799476806061), (58, 38.65763894964659), (60, 34.9037988865611), (62, 37.014034437995484), (64, 37.75808161746056), (65, 38.0904301799504), (66, 37.60659849453319), (67, 38.6458512303284), (70, 41.15478272857955), (71, 34.75601965334334), (73, 36.654557695892876), (75, 35.75813731259128), (79, 38.591125199931334), (81, 35.0917562267429), (82, 38.21735293230577), (84, 40.726136867575306), (85, 33.28901061140842), (86, 39.54772181850185), (87, 38.39418798940338), (88, 32.221986987508835), (91, 39.48912180018868), (92, 39.12441839258428), (94, 38.758098880372394), (95, 34.705974742189056), (96, 38.14724270910587), (97, 37.494678131853966), (100, 39.2869097982269), (101, 33.630975830074874), (103, 37.57375443326694), (108, 42.77047778770277), (111, 35.90497079140955), (113, 35.75616824680172), (115, 35.691979293181845), (117, 39.12607356480052), (122, 35.31536341764603), (123, 35.36544287048627), (124, 35.53328743372903), (127, 34.55154049841107), (130, 35.88172646296701), (134, 32.7439771711911), (141, 39.549992542236), (142, 35.72171735658044), (144, 35.57504351176827), (151, 35.26559063206171), (152, 41.74600625158085), (155, 37.39328495601523), (157, 38.203058055450974), (165, 38.35938520125418), (167, 39.08118441034788), (168, 35.534564747522225), (169, 35.49070390299094), (170, 38.058194691366914), (174, 37.40661693951903), (175, 36.02326139079795), (177, 37.83527204748732), (178, 39.2048368934342), (186, 37.40370391349273), (187, 38.497207892932394), (188, 38.302784406450556), (192, 36.67926502885926), (193, 42.2748022971846), (206, 38.456698142570986), (208, 35.90165061029947), (210, 38.32916543182782), (211, 39.98535037033216), (214, 37.194605933828974), (216, 37.538123670652396), (217, 36.6287023919341), (218, 39.672247953305266), (222, 32.14535609697035), (223, 35.95224495932488), (224, 36.65713689303149), (225, 39.418345321146916), (226, 36.02295945039499), (230, 33.85740470462927), (237, 37.74853382578734), (239, 38.54093878953953), (242, 34.433813052338934), (243, 35.20697878379927), (246, 39.23690771227549), (248, 36.56711354889591), (250, 36.04942379029938), (255, 34.57220837906351), (258, 37.82815918444816), (260, 37.14669667315606), (265, 37.035708501970575), (267, 36.64989270566276), (269, 37.00983303998205), (274, 35.343501065863876), (277, 39.552012386786885), (278, 37.45133529181105), (280, 33.291107145479444), (282, 35.07540308135872), (283, 31.731772779550084), (291, 33.072548869795604), (292, 39.75628295364903), (293, 37.62628785691101), (296, 36.63420958972652), (299, 35.87290017266663), (300, 38.78800306239774), (304, 36.548158810666486), (305, 37.80170719327253), (306, 38.3972716488394), (309, 37.52698044026708), (310, 37.080926463748845), (313, 39.661093402851286), (314, 34.96180742515955), (316, 40.835155483521895), (319, 40.53979068280779), (321, 36.161064894091226), (322, 37.23223713181255), (326, 35.887701632616746), (328, 34.00332551597182), (329, 37.622711706075656), (332, 38.648860605217386), (333, 35.62163592714352), (336, 37.027436822698654), (343, 36.2636296943684), (345, 37.056365325337616), (346, 36.93430982877545), (347, 38.97358104353131), (348, 39.83468637967343), (353, 35.20355806155438), (355, 38.65485268183305), (358, 37.67417955769076), (359, 37.896662822024325), (361, 34.40187279106308), (363, 36.27547153691549), (365, 39.39663121798558), (368, 40.10833815962714), (369, 37.23993412827742), (372, 39.38476485097733), (373, 39.032263939483634), (378, 39.86733476796265), (381, 35.55875232318467), (383, 35.344973014728545), (385, 34.227583648654495), (390, 35.806006463375155), (391, 36.41520432654386), (394, 38.131751258432345), (395, 38.737137374777355), (396, 37.36659663161273), (400, 35.14033528223039), (403, 38.014203738867415), (406, 37.02322715616878), (407, 38.83102155014412), (409, 36.38056707816469), (410, 38.76978542512643), (412, 37.929491383507894), (414, 39.09932580303558), (415, 34.389393618131415), (419, 35.842249694062424), (420, 40.86638864340119), (421, 37.99841010149029), (422, 39.324162305742064), (424, 34.683339718343746), (426, 36.32113511276463), (427, 39.08285539108352), (433, 36.47385519490656), (439, 36.77127778884551), (442, 39.97667993388478), (449, 35.97068298197311), (450, 36.603203913523544), (452, 37.98365578563268), (454, 38.58886215400745), (463, 35.44456325715404), (464, 40.39727285146982), (466, 36.65967784155084), (467, 36.88196056761703), (468, 36.911327132644274), (469, 39.1622305445095), (471, 32.7060344023556), (472, 36.3548528771759), (473, 36.48548466843581), (477, 36.845962597292825), (478, 37.92462697088425), (481, 37.870423966489135), (482, 37.199418115608644), (483, 35.87170282021695), (484, 35.73714183330694), (488, 39.79051978875318), (492, 39.61463399892868), (493, 34.94797371030569), (495, 41.086423390351875), (496, 37.48919894693224), (499, 34.97574485808503), (501, 37.676528972651596), (503, 34.60754746405806), (506, 33.76760458864243), (507, 35.563708529895884), (508, 35.12888838746165), (510, 38.23891681115181), (511, 37.361023128936836), (515, 37.240109047729646), (517, 40.59497263613257), (518, 38.5496833749405), (521, 41.898565511248094), (522, 38.29786310702215), (523, 39.72463382337692), (529, 37.3511299000678), (530, 34.84735972545058), (531, 31.63007748812676), (532, 34.76535088818366), (538, 38.091079746793504), (539, 37.323026282902205), (546, 36.7944785461074), (547, 35.536767538617816), (548, 35.854106648485), (550, 34.03785029850118), (551, 38.96208844242638), (555, 37.07907467127823), (558, 38.4715570999993), (559, 36.512352331801566), (565, 35.63457344265408), (567, 37.264141570872916), (569, 36.80323482704288), (572, 35.97073942370999), (575, 39.00626262678203), (577, 35.03943722758228), (578, 37.30882451567586), (582, 34.179266779944825), (584, 36.59382048662211), (586, 35.39336135179254), (589, 39.71100048986717), (591, 35.10302704520124), (593, 39.80482856004212), (594, 38.24842849368764), (598, 37.07016588020045), (602, 36.223022356204744), (603, 37.712708323708426), (604, 39.330821272274534), (608, 36.16809688062498), (609, 37.203977431908505), (610, 37.74645273662056), (617, 36.43236775361541), (618, 37.01412893880646), (619, 36.42363713539911), (620, 35.589937336637), (622, 36.67354181367977), (623, 36.70900055446885), (624, 38.755141497147825), (625, 38.797037049904354), (626, 38.79335569630289), (627, 39.70067970575936), (628, 38.03837473304921), (630, 37.308192086909834), (631, 34.95564300370443), (633, 35.283926715036074), (634, 35.521210988406935), (637, 37.25289315684652), (640, 38.43273389685657), (641, 37.87266072132549), (642, 35.2615176117379), (643, 38.64098101712755), (648, 39.380203467494155), (649, 41.74944195562245), (661, 31.94628068671078), (664, 37.48833052455032), (665, 36.291315895894286), (669, 42.62874534001936), (670, 38.64625066240812), (671, 35.992391968491994), (672, 37.70928303366364), (674, 41.22166643814022), (679, 36.41491481256554), (681, 37.388452341435546), (682, 37.64353096134785), (683, 37.21713817372161), (684, 35.71619080269822), (688, 37.78375154100822), (689, 36.886663098556404), (690, 38.01173554441755), (695, 39.866646146014965), (699, 33.89540556579419), (700, 38.086699075320055), (701, 39.4671451217352), (702, 37.32324560776976), (703, 37.59344930754404), (704, 35.372239784557785), (706, 35.48775475968288), (709, 38.867538050481876), (711, 40.113768215698485), (714, 36.47060011350272), (717, 41.97082190862414), (720, 36.96556624769769), (722, 42.79186167448154), (726, 33.10649753322694), (728, 41.62596010273633), (729, 36.87798533527821), (731, 38.41223572105761), (732, 33.28005440288105), (733, 38.75316208710813), (735, 40.032862846294755), (736, 39.82199895188079), (738, 35.20727875216835), (740, 36.2839537859913), (741, 37.384456890483726), (743, 36.207781158774395), (745, 36.73272553855365), (746, 35.6975999494346), (747, 36.04552405070643), (748, 34.99429652557565), (749, 37.45881590110689), (750, 32.688119779198566), (751, 39.93895607257077), (752, 36.56014272553874), (755, 37.826386599217734), (757, 40.203258573888874), (758, 36.157621012373816), (760, 36.88556580471041), (762, 38.158797576450695), (763, 42.985269852509276), (767, 34.85291195873873), (770, 39.15122752862132), (771, 36.81517479476768), (773, 37.307583309582505), (774, 36.24841988319635), (775, 33.715231892481164), (778, 37.87598100189825), (779, 36.65934983128151), (782, 37.406342476471), (784, 38.3274760953269), (785, 38.22620480054013), (790, 39.121233640212026), (791, 39.98849542313812), (793, 38.19583980793556), (794, 39.8796016064595), (798, 38.167207008034055)]\n",
            "Conjunto de machos\n",
            "Media teórica: 37. Media real: 37.31222460140067\n",
            "Desviación teórica: 2.1. Desviación real: 2.065289107649017\n"
          ],
          "name": "stdout"
        },
        {
          "output_type": "display_data",
          "data": {
            "image/png": "[encoded data removed]",
            "text/plain": [
              "<Figure size 576x396 with 1 Axes>"
            ]
          },
          "metadata": {
            "tags": []
          }
        },
        {
          "output_type": "stream",
          "text": [
            "[(0, 35.76197491560068), (2, 34.95348621394038), (3, 35.856668443924626), (4, 37.59239810061038), (9, 36.30639973831058), (10, 38.82367610982299), (11, 37.15887190556042), (12, 42.228331740755486), (13, 37.92628171525048), (14, 38.31650916904207), (16, 40.31093142041365), (18, 37.08454496722721), (19, 38.27312392633826), (21, 37.17977625901265), (22, 36.30785280658672), (24, 36.389450774343686), (25, 37.11739697032764), (27, 38.242698145403146), (28, 36.48770758139326), (29, 39.92319220469677), (30, 38.254440058111435), (34, 38.70313294845107), (36, 37.309128827468875), (39, 34.71649109280174), (40, 35.45079116840457), (41, 37.07123465565391), (42, 35.218052264592), (43, 34.502776423494666), (45, 36.855126398741994), (46, 35.42295201131802), (47, 36.321448579678474), (49, 38.7570168390489), (50, 40.257892902519856), (51, 38.36448120042992), (52, 38.255876810726065), (55, 35.65714458618409), (56, 40.75244375601175), (57, 35.794044268359976), (59, 37.86703967444256), (61, 37.249663637524144), (63, 31.83115247075297), (68, 34.72529744198339), (69, 37.639791174423806), (72, 36.614939085011855), (74, 36.94654241532733), (76, 38.28310532392844), (77, 35.44380252804507), (78, 37.27064412914782), (80, 32.583877397204), (83, 34.33497519083549), (89, 36.79597426422373), (90, 36.641605290483476), (93, 37.67989227076459), (98, 36.947100777550574), (99, 36.59656300527892), (102, 37.95337473967925), (104, 37.72124201076702), (105, 40.25755625725486), (106, 35.417363022018456), (107, 35.43280982104962), (109, 36.39547083280602), (110, 37.7332129289148), (112, 34.21735109317252), (114, 40.813985821244835), (116, 36.62219302604612), (118, 42.12886576993501), (119, 37.3875603163483), (120, 34.66172518659282), (121, 32.34453467695358), (125, 36.7047425750734), (126, 32.75591106280265), (128, 36.472633769039234), (129, 37.8482792846652), (131, 36.046437792009854), (132, 33.4306930671811), (133, 36.67288414238098), (135, 38.20200802154667), (136, 33.465397054308326), (137, 34.92210888686811), (138, 38.49077130442288), (139, 36.09841507734165), (140, 31.40692287257064), (143, 37.34614636196913), (145, 35.6079357729882), (146, 34.065250205708686), (147, 36.04309642538368), (148, 36.53347716982537), (149, 36.384870493543325), (150, 35.52840286097897), (153, 40.54806280634031), (154, 37.49838346614944), (156, 37.54449164525002), (158, 36.305053185538995), (159, 37.737498251081334), (160, 38.34967568790825), (161, 37.05919451258365), (162, 34.8928472487321), (163, 38.951063779910264), (164, 35.561858329708265), (166, 36.89421979145236), (171, 35.893234077008195), (172, 32.497412373030194), (173, 38.11448497832919), (176, 38.51689408887971), (179, 38.17102886702167), (180, 37.49684186018784), (181, 37.92591212891815), (182, 38.41178644415973), (183, 32.86196705935748), (184, 38.77219074725033), (185, 39.388511378223264), (189, 41.13020650110521), (190, 36.97693395947658), (191, 37.387599461110774), (194, 38.37179536126194), (195, 38.47217377207821), (196, 37.03101647388449), (197, 37.84445540874702), (198, 34.45948653842912), (199, 37.66435656532815), (200, 33.9306070802578), (201, 37.37780030426745), (202, 37.11332680868853), (203, 37.5695091814156), (204, 35.83457019406361), (205, 37.60363678333596), (207, 36.155455625017915), (209, 36.2647619670588), (212, 38.289451809107426), (213, 35.92271008816599), (215, 38.024709533402074), (219, 36.73016287012809), (220, 35.61841754461075), (221, 38.17041834332794), (227, 36.57308153621938), (228, 34.36637622275), (229, 37.400112053093885), (231, 39.708909750431175), (232, 37.659843638638044), (233, 36.199307333873634), (234, 35.50323269085247), (235, 39.34801649805454), (236, 36.74293865437329), (238, 39.52357325481617), (240, 38.272174879621474), (241, 39.047825058668934), (244, 34.781919484021046), (245, 38.890597107137005), (247, 36.90820594918611), (249, 39.71426376853552), (251, 34.74119738720749), (252, 38.80954638142323), (253, 33.73934669718403), (254, 38.32881115517198), (256, 37.69469758089649), (257, 34.7919480662113), (259, 34.025767596755124), (261, 34.93886250854556), (262, 36.45144750450606), (263, 38.361743792095275), (264, 35.675233550381385), (266, 38.955864689211325), (268, 36.329937054277174), (270, 37.888711668743014), (271, 38.864616197310816), (272, 37.391712103961765), (273, 39.50103363589431), (275, 35.034220626802565), (276, 37.57804088368674), (279, 40.56410127101229), (281, 36.6196930073181), (284, 35.09400941922597), (285, 37.677012615670435), (286, 35.19533743711228), (287, 37.09682614577883), (288, 37.32856422435625), (289, 39.076293746993144), (290, 35.563249529151555), (294, 37.23908568769806), (295, 36.080679543130024), (297, 34.36736690971433), (298, 36.142783462405156), (301, 31.465385053518162), (302, 38.475296424738), (303, 36.68829695222366), (307, 36.73973503880561), (308, 36.3863383760727), (311, 35.07455080465574), (312, 41.09386137005504), (315, 36.17500031149149), (317, 37.682987835153945), (318, 35.099315797375496), (320, 38.85268395291413), (323, 37.30887351105674), (324, 37.81885093277922), (325, 37.452098621841806), (327, 37.1776823196736), (330, 38.91006105973467), (331, 36.47939109306385), (334, 34.18428116898325), (335, 37.9806999763518), (337, 38.95545112855694), (338, 39.16712512574082), (339, 36.91531706721981), (340, 37.07466875573444), (341, 36.53469124637015), (342, 37.98281575287065), (344, 37.61463227387605), (349, 34.569791825022044), (350, 35.37721610808245), (351, 37.06961940285563), (352, 33.947776249958906), (354, 38.73900104418468), (356, 36.479449132569435), (357, 36.49081110609517), (360, 39.642640418784666), (362, 36.0181967534828), (364, 34.101844358359806), (366, 35.56218782502935), (367, 37.06850988066883), (370, 39.115205462277615), (371, 38.90620829799673), (374, 39.41684322802419), (375, 34.95177844965783), (376, 38.57131521819399), (377, 36.16689475708013), (379, 38.71437284291813), (380, 37.14139922869034), (382, 35.24597564642472), (384, 39.32432218398156), (386, 36.75633439113655), (387, 38.692436066301156), (388, 37.5150755267199), (389, 37.725666116545625), (392, 36.39701161896463), (393, 38.94953308228589), (397, 42.61286080206928), (398, 40.49530670843211), (399, 34.140451536936304), (401, 38.97571203593439), (402, 37.47205637126952), (404, 37.521982655514165), (405, 36.025323375409954), (408, 35.5779811678658), (411, 36.67008662821793), (413, 37.27027235901605), (416, 37.77136463070584), (417, 39.027556831195795), (418, 37.87435220889537), (423, 36.01039024515545), (425, 37.226053324549234), (428, 34.63131828502875), (429, 35.612171494435735), (430, 38.34330452440796), (431, 40.80680822755582), (432, 41.97467319549752), (434, 40.34975589704277), (435, 36.96677921507298), (436, 38.21340145418299), (437, 39.849156120190855), (438, 36.66106545993186), (440, 37.5403600102368), (441, 39.34563959805719), (443, 39.98025572123707), (444, 39.35538612717207), (445, 34.426426499155845), (446, 36.35850436723113), (447, 34.21027143222786), (448, 36.293717993465286), (451, 31.62993803242125), (453, 35.949669653456155), (455, 38.81130734819957), (456, 38.90318320441917), (457, 36.97997327940563), (458, 40.13410812467739), (459, 37.62226378055168), (460, 36.46883291110101), (461, 36.22978139158667), (462, 38.30264233364265), (465, 37.57531233304156), (470, 36.90643503118371), (474, 33.020954485874924), (475, 36.69794284905229), (476, 36.7874176605606), (479, 34.35227503613862), (480, 34.82969168807668), (485, 34.42630197772474), (486, 39.61116518889962), (487, 37.920813589106196), (489, 38.45838612686302), (490, 38.720047314871735), (491, 36.08282706673359), (494, 36.336013431373296), (497, 36.941512438165006), (498, 40.02466933823669), (500, 35.83444174984153), (502, 36.340143538922106), (504, 33.48752748209394), (505, 36.772698325775636), (509, 34.650629940455886), (512, 36.1188857535615), (513, 37.86416930812341), (514, 38.74149621654805), (516, 33.322327768454855), (519, 38.01964734774545), (520, 37.61179653318628), (524, 38.50989527148028), (525, 36.520153360393195), (526, 36.03036183123876), (527, 37.21745518705334), (528, 36.99467942238848), (533, 40.0199915259868), (534, 37.32145787573941), (535, 34.74884761077568), (536, 38.58566288450872), (537, 38.812186329266666), (540, 37.87547207998056), (541, 37.384688696043206), (542, 35.47652126466729), (543, 37.872556519531024), (544, 35.36463441148805), (545, 36.810319596145405), (549, 35.90071910845681), (552, 41.18281746310487), (553, 37.062263718090605), (554, 35.2917479753402), (556, 36.74252972562583), (557, 39.15470854690663), (560, 36.843011226131104), (561, 36.0455439012447), (562, 38.254482039683054), (563, 36.59348994584017), (564, 36.63425057727052), (566, 39.58394728138151), (568, 36.60814206361392), (570, 38.60510281079133), (571, 37.83202939961951), (573, 38.04925234826004), (574, 38.47990466663483), (576, 36.64679814633459), (579, 37.65391488053041), (580, 37.68541438342884), (581, 38.03686997670662), (583, 36.883180051146454), (585, 36.07863617465889), (587, 41.434841854683114), (588, 39.25413728527519), (590, 38.03625016035339), (592, 34.06430578603335), (595, 35.49579569258921), (596, 37.09075291109079), (597, 37.5136081633239), (599, 38.012637758177256), (600, 37.55061632334454), (601, 38.95551273827112), (605, 36.04921355953146), (606, 38.382342029657515), (607, 38.824775306202504), (611, 40.27530217628648), (612, 36.54056282793674), (613, 37.17199640509275), (614, 35.82268721013618), (615, 35.82680179999151), (616, 35.51084180680204), (621, 36.72057575774671), (629, 38.879540020915925), (632, 37.947624284082806), (635, 37.05418429362085), (636, 40.166238074603164), (638, 34.18834967902809), (639, 35.833861130313096), (644, 37.67553182717449), (645, 38.15965653842522), (646, 40.15525989431661), (647, 38.1839887865748), (650, 32.48381881757113), (651, 39.31204400604529), (652, 37.722239855188484), (653, 36.42359512541676), (654, 35.28123318753681), (655, 39.39918998322338), (656, 40.54179042611041), (657, 37.40824691456977), (658, 37.43978358650725), (659, 34.33128690972413), (660, 38.23229628787761), (662, 38.00164033962222), (663, 36.09385805349638), (666, 36.83883209944453), (667, 37.80185608303269), (668, 39.496359645594616), (673, 36.37978592707685), (675, 34.687474068746894), (676, 34.851430101216636), (677, 37.95975638971314), (678, 37.82715219972597), (680, 37.428264755085515), (685, 33.375470444474736), (686, 42.82641636912898), (687, 38.21806352893862), (691, 35.846074210287604), (692, 33.84912404052306), (693, 37.49266691871889), (694, 36.64680913548488), (696, 35.39347141896008), (697, 38.52232579852282), (698, 35.05673876243182), (705, 38.32128169163915), (707, 35.24667540544805), (708, 37.40077003853514), (710, 39.33431605374052), (712, 40.26451867954865), (713, 34.387184273910535), (715, 38.17970592600919), (716, 36.64632161348972), (718, 39.24680258459968), (719, 35.850332500757496), (721, 37.96820392778745), (723, 41.58067301232001), (724, 35.087805375954005), (725, 40.77565655522639), (727, 38.40242710873944), (730, 38.73223093061544), (734, 39.76241717335601), (737, 39.47757386920967), (739, 36.57307964216714), (742, 37.32266856326064), (744, 36.67725865440591), (753, 35.25144802113224), (754, 35.47515035717862), (756, 40.04274321910734), (759, 38.42979850311761), (761, 34.33236689699886), (764, 37.66267341996839), (765, 36.02650201025614), (766, 37.208157321942345), (768, 39.972909302980746), (769, 38.69177724482434), (772, 36.901619313677294), (776, 37.62815327237003), (777, 37.79230063689951), (780, 39.74802978625681), (781, 39.500239417295646), (783, 40.07711767014343), (786, 39.714584857014096), (787, 39.9576899900638), (788, 35.8226931079232), (789, 36.38029807521435), (792, 36.95563519547629), (795, 38.84335862876261), (796, 37.60205095760901), (797, 37.808331821103046), (799, 37.0394953536154)]\n",
            "Conjunto de hembras\n",
            "Media teórica: 37. Media real: 37.167913197548586\n",
            "Desviación teórica: 2.1. Desviación real: 1.9022127325643743\n"
          ],
          "name": "stdout"
        },
        {
          "output_type": "display_data",
          "data": {
            "image/png": "[encoded data removed]",
            "text/plain": [
              "<Figure size 576x396 with 1 Axes>"
            ]
          },
          "metadata": {
            "tags": []
          }
        }
      ]
    },
    {
      "metadata": {
        "id": "zy5ZROmjlGo1",
        "colab_type": "text"
      },
      "cell_type": "markdown",
      "source": [
        "**Aplica el algoritmo al juego de datos generado**"
      ]
    },
    {
      "metadata": {
        "id": "_Cmj-PVylMsa",
        "colab_type": "text"
      },
      "cell_type": "markdown",
      "source": [
        "Respuesta\n",
        "\n",
        "Se van a aplicar dos ejecuciones distintas del algoritmo, una con el conjunto de machos y otra con el conjunto de hembras. Simplemente se presentará el detalle de los animales pertenecientes a cada uno de los tratamientos."
      ]
    },
    {
      "metadata": {
        "id": "Jkx8GeiYlUz1",
        "colab_type": "code",
        "colab": {
          "base_uri": "https://localhost:8080/",
          "height": 158
        },
        "outputId": "e2e55b08-ae5d-4da3-cc19-3152d4c5f87c"
      },
      "cell_type": "code",
      "source": [
        "n_trat = 3\n",
        "n_grup = 3\n",
        "\n",
        "print(\"Ejecución con el conjunto de machos\")\n",
        "\n",
        "T1, T2, T3 = agrupar_animales(n_trat, n_grup, machos)\n",
        "\n",
        "print(\"Animales del tratamiento 1\\n\", T1)\n",
        "print(\"Animales del tratamiento 2\\n\", T2)\n",
        "print(\"Animales del tratamiento 3\\n\", T3)"
      ],
      "execution_count": 392,
      "outputs": [
        {
          "output_type": "stream",
          "text": [
            "Ejecución con el conjunto de machos\n",
            "Animales del tratamiento 1\n",
            " [(127, 34.55154049841107), (32, 34.236838422504434), (127, 34.55154049841107), (230, 33.85740470462927), (242, 34.433813052338934), (243, 35.20697878379927), (255, 34.57220837906351), (274, 35.343501065863876), (280, 33.291107145479444), (282, 35.07540308135872), (283, 31.731772779550084), (291, 33.072548869795604), (293, 37.62628785691101), (296, 36.63420958972652), (299, 35.87290017266663), (300, 38.78800306239774), (304, 36.548158810666486), (305, 37.80170719327253), (306, 38.3972716488394), (309, 37.52698044026708), (310, 37.080926463748845), (313, 39.661093402851286), (314, 34.96180742515955), (316, 40.835155483521895), (319, 40.53979068280779), (322, 37.23223713181255), (326, 35.887701632616746), (328, 34.00332551597182), (329, 37.622711706075656), (332, 38.648860605217386), (333, 35.62163592714352), (336, 37.027436822698654), (345, 37.056365325337616), (346, 36.93430982877545), (347, 38.97358104353131), (348, 39.83468637967343), (353, 35.20355806155438), (355, 38.65485268183305), (101, 33.630975830074874), (37, 35.595179339904405), (38, 36.97789131202852), (48, 38.51938756885211), (58, 38.65763894964659), (60, 34.9037988865611), (62, 37.014034437995484), (64, 37.75808161746056), (66, 37.60659849453319), (67, 38.6458512303284), (71, 34.75601965334334), (73, 36.654557695892876), (75, 35.75813731259128), (79, 38.591125199931334), (81, 35.0917562267429), (82, 38.21735293230577), (85, 33.28901061140842), (86, 39.54772181850185), (87, 38.39418798940338), (88, 32.221986987508835), (91, 39.48912180018868), (92, 39.12441839258428), (94, 38.758098880372394), (95, 34.705974742189056), (100, 39.2869097982269), (101, 33.630975830074874), (103, 37.57375443326694), (108, 42.77047778770277), (111, 35.90497079140955), (113, 35.75616824680172), (115, 35.691979293181845), (117, 39.12607356480052), (122, 35.31536341764603), (123, 35.36544287048627), (124, 35.53328743372903), (130, 35.88172646296701), (134, 32.7439771711911), (141, 39.549992542236), (409, 36.38056707816469), (5, 36.0607787645783), (23, 36.257486946573785), (33, 36.01490148248906), (248, 36.56711354889591), (250, 36.04942379029938), (321, 36.161064894091226), (343, 36.2636296943684), (363, 36.27547153691549), (381, 35.55875232318467), (383, 35.344973014728545), (385, 34.227583648654495), (390, 35.806006463375155), (391, 36.41520432654386), (395, 38.737137374777355), (400, 35.14033528223039), (406, 37.02322715616878), (407, 38.83102155014412), (409, 36.38056707816469), (410, 38.76978542512643), (412, 37.929491383507894), (414, 39.09932580303558), (415, 34.389393618131415), (419, 35.842249694062424), (420, 40.86638864340119), (422, 39.324162305742064), (424, 34.683339718343746), (426, 36.32113511276463), (427, 39.08285539108352), (433, 36.47385519490656), (439, 36.77127778884551), (449, 35.97068298197311), (450, 36.603203913523544), (452, 37.98365578563268), (454, 38.58886215400745), (463, 35.44456325715404), (464, 40.39727285146982), (466, 36.65967784155084)]\n",
            "Animales del tratamiento 2\n",
            " [(785, 38.22620480054013), (20, 37.993288015556416), (65, 38.0904301799504), (96, 38.14724270910587), (157, 38.203058055450974), (170, 38.058194691366914), (359, 37.896662822024325), (394, 38.131751258432345), (403, 38.014203738867415), (421, 37.99841010149029), (478, 37.92462697088425), (529, 37.3511299000678), (538, 38.091079746793504), (539, 37.323026282902205), (546, 36.7944785461074), (547, 35.536767538617816), (548, 35.854106648485), (550, 34.03785029850118), (551, 38.96208844242638), (555, 37.07907467127823), (558, 38.4715570999993), (559, 36.512352331801566), (565, 35.63457344265408), (567, 37.264141570872916), (569, 36.80323482704288), (572, 35.97073942370999), (575, 39.00626262678203), (577, 35.03943722758228), (578, 37.30882451567586), (582, 34.179266779944825), (584, 36.59382048662211), (586, 35.39336135179254), (589, 39.71100048986717), (591, 35.10302704520124), (593, 39.80482856004212), (594, 38.24842849368764), (598, 37.07016588020045), (602, 36.223022356204744), (578, 37.30882451567586), (6, 37.53616818211425), (7, 37.37341003186943), (97, 37.494678131853966), (155, 37.39328495601523), (174, 37.40661693951903), (186, 37.40370391349273), (278, 37.45133529181105), (358, 37.67417955769076), (369, 37.23993412827742), (396, 37.36659663161273), (467, 36.88196056761703), (468, 36.911327132644274), (472, 36.3548528771759), (473, 36.48548466843581), (477, 36.845962597292825), (481, 37.870423966489135), (482, 37.199418115608644), (483, 35.87170282021695), (484, 35.73714183330694), (492, 39.61463399892868), (493, 34.94797371030569), (495, 41.086423390351875), (496, 37.48919894693224), (499, 34.97574485808503), (501, 37.676528972651596), (503, 34.60754746405806), (506, 33.76760458864243), (507, 35.563708529895884), (508, 35.12888838746165), (510, 38.23891681115181), (511, 37.361023128936836), (515, 37.240109047729646), (517, 40.59497263613257), (518, 38.5496833749405), (521, 41.898565511248094), (522, 38.29786310702215), (523, 39.72463382337692), (706, 35.48775475968288), (26, 37.69341857172336), (31, 39.114372630806045), (35, 38.00424521696855), (142, 35.72171735658044), (144, 35.57504351176827), (151, 35.26559063206171), (165, 38.35938520125418), (167, 39.08118441034788), (168, 35.534564747522225), (169, 35.49070390299094), (175, 36.02326139079795), (177, 37.83527204748732), (187, 38.497207892932394), (188, 38.302784406450556), (192, 36.67926502885926), (193, 42.2748022971846), (206, 38.456698142570986), (208, 35.90165061029947), (210, 38.32916543182782), (214, 37.194605933828974), (216, 37.538123670652396), (217, 36.6287023919341), (218, 39.672247953305266), (222, 32.14535609697035), (223, 35.95224495932488), (224, 36.65713689303149), (225, 39.418345321146916), (226, 36.02295945039499), (237, 37.74853382578734), (239, 38.54093878953953), (246, 39.23690771227549), (258, 37.82815918444816), (260, 37.14669667315606), (265, 37.035708501970575), (267, 36.64989270566276), (269, 37.00983303998205), (277, 39.552012386786885)]\n",
            "Animales del tratamiento 3\n",
            " [(770, 39.15122752862132), (1, 39.20352235519571), (178, 39.2048368934342), (469, 39.1622305445095), (709, 38.867538050481876), (711, 40.113768215698485), (714, 36.47060011350272), (717, 41.97082190862414), (720, 36.96556624769769), (722, 42.79186167448154), (726, 33.10649753322694), (728, 41.62596010273633), (729, 36.87798533527821), (731, 38.41223572105761), (732, 33.28005440288105), (733, 38.75316208710813), (735, 40.032862846294755), (736, 39.82199895188079), (738, 35.20727875216835), (740, 36.2839537859913), (741, 37.384456890483726), (743, 36.207781158774395), (745, 36.73272553855365), (746, 35.6975999494346), (747, 36.04552405070643), (748, 34.99429652557565), (749, 37.45881590110689), (750, 32.688119779198566), (751, 39.93895607257077), (752, 36.56014272553874), (755, 37.826386599217734), (757, 40.203258573888874), (758, 36.157621012373816), (760, 36.88556580471041), (762, 38.158797576450695), (763, 42.985269852509276), (767, 34.85291195873873), (770, 39.15122752862132), (495, 41.086423390351875), (15, 39.71423537498582), (17, 41.461336984169364), (44, 40.237505358087056), (53, 41.16697289543781), (54, 40.44799476806061), (70, 41.15478272857955), (84, 40.726136867575306), (152, 41.74600625158085), (292, 39.75628295364903), (361, 34.40187279106308), (365, 39.39663121798558), (372, 39.38476485097733), (373, 39.032263939483634), (471, 32.7060344023556), (530, 34.84735972545058), (531, 31.63007748812676), (532, 34.76535088818366), (603, 37.712708323708426), (608, 36.16809688062498), (609, 37.203977431908505), (674, 41.22166643814022), (679, 36.41491481256554), (681, 37.388452341435546), (682, 37.64353096134785), (683, 37.21713817372161), (684, 35.71619080269822), (688, 37.78375154100822), (689, 36.886663098556404), (690, 38.01173554441755), (695, 39.866646146014965), (699, 33.89540556579419), (700, 38.086699075320055), (701, 39.4671451217352), (702, 37.32324560776976), (703, 37.59344930754404), (704, 35.372239784557785), (706, 35.48775475968288), (735, 40.032862846294755), (8, 39.91386109083692), (211, 39.98535037033216), (368, 40.10833815962714), (378, 39.86733476796265), (442, 39.97667993388478), (488, 39.79051978875318), (604, 39.330821272274534), (610, 37.74645273662056), (617, 36.43236775361541), (618, 37.01412893880646), (619, 36.42363713539911), (620, 35.589937336637), (622, 36.67354181367977), (623, 36.70900055446885), (624, 38.755141497147825), (625, 38.797037049904354), (626, 38.79335569630289), (627, 39.70067970575936), (628, 38.03837473304921), (630, 37.308192086909834), (631, 34.95564300370443), (633, 35.283926715036074), (634, 35.521210988406935), (637, 37.25289315684652), (640, 38.43273389685657), (641, 37.87266072132549), (642, 35.2615176117379), (643, 38.64098101712755), (648, 39.380203467494155), (649, 41.74944195562245), (661, 31.94628068671078), (664, 37.48833052455032), (665, 36.291315895894286), (669, 42.62874534001936), (670, 38.64625066240812), (671, 35.992391968491994), (672, 37.70928303366364)]\n"
          ],
          "name": "stdout"
        }
      ]
    },
    {
      "metadata": {
        "id": "4VF0YZsLL8sd",
        "colab_type": "code",
        "colab": {
          "base_uri": "https://localhost:8080/",
          "height": 158
        },
        "outputId": "cf8dcc8f-eb25-4ec8-8c1f-3330e4e8cb7b"
      },
      "cell_type": "code",
      "source": [
        "print(\"Ejecución con el conjunto de hembras\")\n",
        "\n",
        "T1, T2, T3 = agrupar_animales(n_trat, n_grup, hembras)\n",
        "\n",
        "print(\"Animales del tratamiento 1\\n\", T1)\n",
        "print(\"Animales del tratamiento 2\\n\", T2)\n",
        "print(\"Animales del tratamiento 3\\n\", T3)"
      ],
      "execution_count": 393,
      "outputs": [
        {
          "output_type": "stream",
          "text": [
            "Ejecución con el conjunto de hembras\n",
            "Animales del tratamiento 1\n",
            " [(253, 33.73934669718403), (42, 35.218052264592), (43, 34.502776423494666), (63, 31.83115247075297), (80, 32.583877397204), (83, 34.33497519083549), (112, 34.21735109317252), (121, 32.34453467695358), (126, 32.75591106280265), (132, 33.4306930671811), (136, 33.465397054308326), (137, 34.92210888686811), (140, 31.40692287257064), (146, 34.065250205708686), (162, 34.8928472487321), (171, 35.893234077008195), (172, 32.497412373030194), (183, 32.86196705935748), (198, 34.45948653842912), (200, 33.9306070802578), (204, 35.83457019406361), (207, 36.155455625017915), (209, 36.2647619670588), (213, 35.92271008816599), (219, 36.73016287012809), (221, 38.17041834332794), (227, 36.57308153621938), (228, 34.36637622275), (229, 37.400112053093885), (231, 39.708909750431175), (232, 37.659843638638044), (233, 36.199307333873634), (235, 39.34801649805454), (236, 36.74293865437329), (238, 39.52357325481617), (240, 38.272174879621474), (241, 39.047825058668934), (245, 38.890597107137005), (247, 36.90820594918611), (249, 39.71426376853552), (252, 38.80954638142323), (253, 33.73934669718403), (254, 38.32881115517198), (256, 37.69469758089649), (259, 34.025767596755124), (261, 34.93886250854556), (262, 36.45144750450606), (263, 38.361743792095275), (264, 35.675233550381385), (266, 38.955864689211325), (428, 34.63131828502875), (2, 34.95348621394038), (39, 34.71649109280174), (68, 34.72529744198339), (120, 34.66172518659282), (244, 34.781919484021046), (251, 34.74119738720749), (257, 34.7919480662113), (349, 34.569791825022044), (375, 34.95177844965783), (382, 35.24597564642472), (399, 34.140451536936304), (405, 36.025323375409954), (408, 35.5779811678658), (411, 36.67008662821793), (413, 37.27027235901605), (416, 37.77136463070584), (417, 39.027556831195795), (418, 37.87435220889537), (423, 36.01039024515545), (425, 37.226053324549234), (428, 34.63131828502875), (429, 35.612171494435735), (430, 38.34330452440796), (435, 36.96677921507298), (436, 38.21340145418299), (437, 39.849156120190855), (438, 36.66106545993186), (440, 37.5403600102368), (441, 39.34563959805719), (443, 39.98025572123707), (444, 39.35538612717207), (445, 34.426426499155845), (446, 36.35850436723113), (447, 34.21027143222786), (448, 36.293717993465286), (451, 31.62993803242125), (453, 35.949669653456155), (455, 38.81130734819957), (456, 38.90318320441917), (457, 36.97997327940563), (458, 40.13410812467739), (459, 37.62226378055168), (460, 36.46883291110101), (461, 36.22978139158667), (462, 38.30264233364265), (465, 37.57531233304156), (470, 36.90643503118371), (474, 33.020954485874924), (475, 36.69794284905229), (47, 36.321448579678474), (3, 35.856668443924626), (9, 36.30639973831058), (22, 36.30785280658672), (24, 36.389450774343686), (28, 36.48770758139326), (47, 36.321448579678474), (72, 36.614939085011855), (89, 36.79597426422373), (90, 36.641605290483476), (98, 36.947100777550574), (99, 36.59656300527892), (109, 36.39547083280602), (116, 36.62219302604612), (125, 36.7047425750734), (128, 36.472633769039234), (131, 36.046437792009854), (133, 36.67288414238098), (139, 36.09841507734165), (147, 36.04309642538368), (148, 36.53347716982537), (149, 36.384870493543325), (158, 36.305053185538995), (161, 37.05919451258365), (166, 36.89421979145236), (190, 36.97693395947658), (191, 37.387599461110774), (196, 37.03101647388449), (201, 37.37780030426745), (202, 37.11332680868853), (203, 37.5695091814156), (205, 37.60363678333596), (268, 36.329937054277174), (270, 37.888711668743014), (272, 37.391712103961765), (275, 35.034220626802565), (276, 37.57804088368674), (281, 36.6196930073181), (284, 35.09400941922597), (285, 37.677012615670435), (287, 37.09682614577883), (288, 37.32856422435625), (289, 39.076293746993144), (294, 37.23908568769806), (295, 36.080679543130024), (297, 34.36736690971433), (298, 36.142783462405156), (301, 31.465385053518162), (302, 38.475296424738), (303, 36.68829695222366)]\n",
            "Animales del tratamiento 2\n",
            " [(542, 35.47652126466729), (0, 35.76197491560068), (40, 35.45079116840457), (46, 35.42295201131802), (55, 35.65714458618409), (57, 35.794044268359976), (77, 35.44380252804507), (106, 35.417363022018456), (107, 35.43280982104962), (145, 35.6079357729882), (150, 35.52840286097897), (164, 35.561858329708265), (220, 35.61841754461075), (234, 35.50323269085247), (286, 35.19533743711228), (290, 35.563249529151555), (311, 35.07455080465574), (315, 36.17500031149149), (318, 35.099315797375496), (323, 37.30887351105674), (324, 37.81885093277922), (325, 37.452098621841806), (330, 38.91006105973467), (331, 36.47939109306385), (334, 34.18428116898325), (335, 37.9806999763518), (337, 38.95545112855694), (338, 39.16712512574082), (339, 36.91531706721981), (340, 37.07466875573444), (341, 36.53469124637015), (342, 37.98281575287065), (344, 37.61463227387605), (350, 35.37721610808245), (351, 37.06961940285563), (352, 33.947776249958906), (354, 38.73900104418468), (356, 36.479449132569435), (357, 36.49081110609517), (360, 39.642640418784666), (362, 36.0181967534828), (364, 34.101844358359806), (366, 35.56218782502935), (367, 37.06850988066883), (370, 39.115205462277615), (371, 38.90620829799673), (374, 39.41684322802419), (376, 38.57131521819399), (377, 36.16689475708013), (379, 38.71437284291813), (613, 37.17199640509275), (11, 37.15887190556042), (21, 37.17977625901265), (327, 37.1776823196736), (380, 37.14139922869034), (527, 37.21745518705334), (553, 37.062263718090605), (583, 36.883180051146454), (596, 37.09075291109079), (597, 37.5136081633239), (599, 38.012637758177256), (600, 37.55061632334454), (601, 38.95551273827112), (605, 36.04921355953146), (606, 38.382342029657515), (611, 40.27530217628648), (612, 36.54056282793674), (613, 37.17199640509275), (614, 35.82268721013618), (615, 35.82680179999151), (616, 35.51084180680204), (621, 36.72057575774671), (629, 38.879540020915925), (632, 37.947624284082806), (635, 37.05418429362085), (636, 40.166238074603164), (638, 34.18834967902809), (639, 35.833861130313096), (644, 37.67553182717449), (645, 38.15965653842522), (646, 40.15525989431661), (647, 38.1839887865748), (650, 32.48381881757113), (651, 39.31204400604529), (652, 37.722239855188484), (653, 36.42359512541676), (654, 35.28123318753681), (655, 39.39918998322338), (656, 40.54179042611041), (657, 37.40824691456977), (658, 37.43978358650725), (659, 34.33128690972413), (660, 38.23229628787761), (662, 38.00164033962222), (663, 36.09385805349638), (666, 36.83883209944453), (667, 37.80185608303269), (668, 39.496359645594616), (673, 36.37978592707685), (675, 34.687474068746894), (271, 38.864616197310816), (10, 38.82367610982299), (271, 38.864616197310816), (320, 38.85268395291413), (537, 38.812186329266666), (607, 38.824775306202504), (685, 33.375470444474736), (686, 42.82641636912898), (687, 38.21806352893862), (691, 35.846074210287604), (692, 33.84912404052306), (693, 37.49266691871889), (694, 36.64680913548488), (696, 35.39347141896008), (697, 38.52232579852282), (698, 35.05673876243182), (705, 38.32128169163915), (707, 35.24667540544805), (708, 37.40077003853514), (710, 39.33431605374052), (712, 40.26451867954865), (713, 34.387184273910535), (715, 38.17970592600919), (716, 36.64632161348972), (718, 39.24680258459968), (719, 35.850332500757496), (721, 37.96820392778745), (723, 41.58067301232001), (724, 35.087805375954005), (725, 40.77565655522639), (727, 38.40242710873944), (730, 38.73223093061544), (734, 39.76241717335601), (737, 39.47757386920967), (739, 36.57307964216714), (742, 37.32266856326064), (744, 36.67725865440591), (753, 35.25144802113224), (754, 35.47515035717862), (756, 40.04274321910734), (759, 38.42979850311761), (761, 34.33236689699886), (764, 37.66267341996839), (765, 36.02650201025614), (766, 37.208157321942345), (768, 39.972909302980746), (769, 38.69177724482434), (772, 36.901619313677294), (776, 37.62815327237003), (777, 37.79230063689951)]\n",
            "Animales del tratamiento 3\n",
            " [(231, 39.708909750431175), (14, 38.31650916904207), (16, 40.31093142041365), (18, 37.08454496722721), (25, 37.11739697032764), (29, 39.92319220469677), (118, 42.12886576993501), (312, 41.09386137005504), (317, 37.682987835153945), (384, 39.32432218398156), (386, 36.75633439113655), (387, 38.692436066301156), (388, 37.5150755267199), (389, 37.725666116545625), (392, 36.39701161896463), (393, 38.94953308228589), (397, 42.61286080206928), (398, 40.49530670843211), (401, 38.97571203593439), (402, 37.47205637126952), (404, 37.521982655514165), (476, 36.7874176605606), (479, 34.35227503613862), (480, 34.82969168807668), (485, 34.42630197772474), (486, 39.61116518889962), (487, 37.920813589106196), (489, 38.45838612686302), (490, 38.720047314871735), (491, 36.08282706673359), (494, 36.336013431373296), (497, 36.941512438165006), (498, 40.02466933823669), (500, 35.83444174984153), (502, 36.340143538922106), (504, 33.48752748209394), (505, 36.772698325775636), (509, 34.650629940455886), (512, 36.1188857535615), (513, 37.86416930812341), (514, 38.74149621654805), (516, 33.322327768454855), (519, 38.01964734774545), (520, 37.61179653318628), (524, 38.50989527148028), (525, 36.520153360393195), (526, 36.03036183123876), (528, 36.99467942238848), (533, 40.0199915259868), (534, 37.32145787573941), (599, 38.012637758177256), (4, 37.59239810061038), (13, 37.92628171525048), (19, 38.27312392633826), (27, 38.242698145403146), (30, 38.254440058111435), (34, 38.70313294845107), (36, 37.309128827468875), (41, 37.07123465565391), (45, 36.855126398741994), (49, 38.7570168390489), (51, 38.36448120042992), (52, 38.255876810726065), (59, 37.86703967444256), (61, 37.249663637524144), (69, 37.639791174423806), (74, 36.94654241532733), (76, 38.28310532392844), (78, 37.27064412914782), (93, 37.67989227076459), (102, 37.95337473967925), (104, 37.72124201076702), (110, 37.7332129289148), (119, 37.3875603163483), (129, 37.8482792846652), (135, 38.20200802154667), (138, 38.49077130442288), (143, 37.34614636196913), (154, 37.49838346614944), (156, 37.54449164525002), (159, 37.737498251081334), (160, 38.34967568790825), (163, 38.951063779910264), (173, 38.11448497832919), (176, 38.51689408887971), (179, 38.17102886702167), (180, 37.49684186018784), (181, 37.92591212891815), (182, 38.41178644415973), (184, 38.77219074725033), (185, 39.388511378223264), (194, 38.37179536126194), (195, 38.47217377207821), (197, 37.84445540874702), (199, 37.66435656532815), (212, 38.289451809107426), (215, 38.024709533402074), (273, 39.50103363589431), (307, 36.73973503880561), (308, 36.3863383760727), (153, 40.54806280634031), (12, 42.228331740755486), (50, 40.257892902519856), (56, 40.75244375601175), (105, 40.25755625725486), (114, 40.813985821244835), (153, 40.54806280634031), (189, 41.13020650110521), (279, 40.56410127101229), (431, 40.80680822755582), (432, 41.97467319549752), (434, 40.34975589704277), (535, 34.74884761077568), (536, 38.58566288450872), (540, 37.87547207998056), (541, 37.384688696043206), (542, 35.47652126466729), (543, 37.872556519531024), (544, 35.36463441148805), (545, 36.810319596145405), (549, 35.90071910845681), (552, 41.18281746310487), (554, 35.2917479753402), (556, 36.74252972562583), (557, 39.15470854690663), (560, 36.843011226131104), (561, 36.0455439012447), (562, 38.254482039683054), (563, 36.59348994584017), (564, 36.63425057727052), (566, 39.58394728138151), (568, 36.60814206361392), (570, 38.60510281079133), (571, 37.83202939961951), (573, 38.04925234826004), (574, 38.47990466663483), (576, 36.64679814633459), (579, 37.65391488053041), (580, 37.68541438342884), (581, 38.03686997670662), (585, 36.07863617465889), (587, 41.434841854683114), (588, 39.25413728527519), (590, 38.03625016035339), (592, 34.06430578603335), (595, 35.49579569258921), (676, 34.851430101216636), (677, 37.95975638971314), (678, 37.82715219972597), (680, 37.428264755085515)]\n"
          ],
          "name": "stdout"
        }
      ]
    },
    {
      "metadata": {
        "colab_type": "text",
        "id": "eTFWUJQrtGcv"
      },
      "cell_type": "markdown",
      "source": [
        "**Enumera las referencias que has utilizado(si ha sido necesario) para llevar a cabo el trabajo**"
      ]
    },
    {
      "metadata": {
        "id": "YKQ_mRBttWsP",
        "colab_type": "text"
      },
      "cell_type": "markdown",
      "source": [
        "Respuesta\n",
        "\n",
        "Para la realización de este programa ha sido necesario consultar cierta bibliografía. Ha habido dos artículos que han sido de mucha utilidad:\n",
        " \n",
        "1.   [MÉTODOS DE ANÁLISIS MULTIVARIANTE: ANÁLISIS CLÚSTER](http://wpd.ugr.es/~bioestad/guia-spss/practica-8/#20)\n",
        "2.   [TWO METHODS FOR SPLITTING DATA INTO HOMOGENEOUS GROUPS](https://www.ssb.no/a/histstat/ano/ano_io70_07.pdf)\n",
        "\n"
      ]
    },
    {
      "metadata": {
        "id": "kAkDPUyRtYyH",
        "colab_type": "text"
      },
      "cell_type": "markdown",
      "source": [
        "**Describe brevemente las lineas de como crees que es posible avanzar en el estudio del problema. Ten en cuenta incluso posibles variaciones del problema y/o variaciones al alza del tamaño**"
      ]
    },
    {
      "metadata": {
        "id": "IE0uZmo-tZu-",
        "colab_type": "text"
      },
      "cell_type": "markdown",
      "source": [
        "Respuesta\n",
        "\n",
        "En primero lugar habría que modificar el algoritmo para hacerlo genérico, ya que ahora mismo está forzado a que trabaje con tres tratamientos de tres grupos cada uno.\n",
        "\n",
        "Por otro lado, convendría investigar otros métodos para el cálculo de la dispersión, pues la varianza no es una medida robusta frente a los outliers, además de evalúar y comparar otras formas de inicializar cada uno de los clústers."
      ]
    }
  ]
}