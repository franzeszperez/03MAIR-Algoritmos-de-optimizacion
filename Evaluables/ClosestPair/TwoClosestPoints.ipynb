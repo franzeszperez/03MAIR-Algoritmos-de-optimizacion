{
  "nbformat": 4,
  "nbformat_minor": 0,
  "metadata": {
    "colab": {
      "name": "TwoClosestPoints.ipynb",
      "version": "0.3.2",
      "provenance": [],
      "collapsed_sections": [],
      "include_colab_link": true
    },
    "kernelspec": {
      "name": "python3",
      "display_name": "Python 3"
    }
  },
  "cells": [
    {
      "cell_type": "markdown",
      "metadata": {
        "id": "view-in-github",
        "colab_type": "text"
      },
      "source": [
        "<a href=\"https://colab.research.google.com/github/franzeszperez/03MAIR-Algoritmos-de-optimizacion/blob/master/Evaluables/ClosestPair/TwoClosestPoints.ipynb\" target=\"_parent\"><img src=\"https://colab.research.google.com/assets/colab-badge.svg\" alt=\"Open In Colab\"/></a>"
      ]
    },
    {
      "metadata": {
        "id": "M9x44mq34KNB",
        "colab_type": "text"
      },
      "cell_type": "markdown",
      "source": [
        "### Introducción\n",
        "\n",
        "El problema de encontrar el par de puntos más cercano en un conjunto de n puntos es un problema clasico de geometría computacional. Cuando se habla del plano euclídeo, fue uno de los primeros problemas tratados en el estudio de la complejidad computacional de los algoritmos geométricos. \n",
        "\n",
        "Hay varias maneras de solucionar el problema, entre las que se encuentran la técnica de fuerza bruta, de divide y vencerás o de programación dinámica. En este notebook se van a venir las técnicas de fuerza bruta y de divide y vencerás. \n",
        "\n",
        "Como posibles aplicaciones, se encuentra por ejemplo la técnica de agrupar los puntos en función de su distancia, el algoritmo llamado K-Nearest Neighbours."
      ]
    },
    {
      "metadata": {
        "id": "Q3dth3qkKU_C",
        "colab_type": "text"
      },
      "cell_type": "markdown",
      "source": [
        "### Cálculo del tiempo del algoritmo"
      ]
    },
    {
      "metadata": {
        "id": "_oBQ22NnmG4n",
        "colab_type": "code",
        "colab": {}
      },
      "cell_type": "code",
      "source": [
        "from time import time\n",
        "\n",
        "def calcular_tiempo(f):\n",
        "    def wrapper(*args, **kwargs):\n",
        "        \n",
        "        inicio = time()       \n",
        "        resultado = f(*args, **kwargs)       \n",
        "        tiempo = time() - inicio\n",
        "        print(\"Tiempo de ejecución para algoritmo: \"+str(tiempo)+'\\n')\n",
        "        return resultado\n",
        "    return wrapper"
      ],
      "execution_count": 0,
      "outputs": []
    },
    {
      "metadata": {
        "id": "LsiVDRcFKnP2",
        "colab_type": "text"
      },
      "cell_type": "markdown",
      "source": [
        "### Cálculo de la distancia para un set de puntos\n",
        "\n",
        "A continuación se muestra una función genérica para calcular la distancia entre dos puntos de dimensión cualquiera, que se usará en los algoritmo posteriores."
      ]
    },
    {
      "metadata": {
        "id": "nCyh7ZCWDmc2",
        "colab_type": "code",
        "colab": {}
      },
      "cell_type": "code",
      "source": [
        "import math\n",
        "def distance(first, second):\n",
        "  dist = 0\n",
        "  if isinstance(first, int):\n",
        "    # Es un número.\n",
        "    dist = abs(first - second)\n",
        "  else:\n",
        "    # Es una tupla.\n",
        "    for i in range(len(first)):\n",
        "      dist += (first[i] - second[i])**2\n",
        "    dist = math.sqrt(dist)\n",
        "  return dist"
      ],
      "execution_count": 0,
      "outputs": []
    },
    {
      "metadata": {
        "id": "aijEwZl6MPsA",
        "colab_type": "text"
      },
      "cell_type": "markdown",
      "source": [
        "### Resolución del problema con Fuerza Bruta\n",
        "\n",
        "Este algoritmo recorre todos los puntos dos veces, mediante dos bucles, con tal de computar la diferencia entre cada par de puntos. Esto hace que se calcule la distancia dos veces para cada par de puntos."
      ]
    },
    {
      "metadata": {
        "id": "3TUnp1s-TYLJ",
        "colab_type": "code",
        "colab": {}
      },
      "cell_type": "code",
      "source": [
        "# Brute force nD\n",
        "@calcular_tiempo \n",
        "def brute_force_nd(listnd):\n",
        "  minDistance = 999999999999\n",
        "  closestPoints = (0, 0)\n",
        "\n",
        "  for i, value1 in enumerate(listnd):\n",
        "    for j, value2 in enumerate(listnd):\n",
        "      if(i==j):\n",
        "        continue\n",
        "      else:\n",
        "        if distance(value1, value2) < minDistance:\n",
        "          minDistance = distance(value1, value2)\n",
        "          closestPoints = (value1, value2)\n",
        "  print(\"Fuerza Bruta - Los puntos más cercanos son: \" + str(closestPoints) + \", a una distancia de \" + str(minDistance))  "
      ],
      "execution_count": 0,
      "outputs": []
    },
    {
      "metadata": {
        "id": "CX4S9jlbNraQ",
        "colab_type": "text"
      },
      "cell_type": "markdown",
      "source": [
        "### Resolución del problema con un enfoque de Fuerza Bruta mejorada \n",
        "\n",
        "Este algoritmo, a diferencia del anterior, mejora la eficiencia del algoritmo, pues no recorre todos los puntos dos veces, sino que calcula la diferencia entre cada par de puntos una única vez."
      ]
    },
    {
      "metadata": {
        "id": "-7YLHJZcTxrs",
        "colab_type": "code",
        "colab": {}
      },
      "cell_type": "code",
      "source": [
        "# Brute force nD (Improved)\n",
        "@calcular_tiempo \n",
        "def brute_force_nd_improved(listnd):\n",
        "  minDistance = 999999999999\n",
        "  closestPoints = (0, 0)\n",
        "  \n",
        "  for i in range(len(listnd)-1):\n",
        "    for j in range(i+1,len(listnd)):\n",
        "      if distance(listnd[i], listnd[j]) < minDistance:\n",
        "        minDistance = distance(listnd[i], listnd[j])\n",
        "        closestPoints = (listnd[i], listnd[j])\n",
        "  print(\"Fuerza Bruta mejorada - Los puntos más cercanos son: \" + str(closestPoints) + \", a una distancia de \" + str(minDistance))  "
      ],
      "execution_count": 0,
      "outputs": []
    },
    {
      "metadata": {
        "id": "-d5WW3s_OZPP",
        "colab_type": "text"
      },
      "cell_type": "markdown",
      "source": [
        "### Resolución del problema con un enfoque de Divide y Vencerás\n",
        "\n",
        "El enfoque de Divide y Vencerás utiliza la recursividad para solucionar el problema, retornando en cada iteración la distancia mínima que encuentra (modificada o no).\n",
        "\n",
        "---\n",
        "\n",
        "La función recursiva closest_recursive_nd recibe en cada iteración una lista de tamaño una unidad menor a la recibida en la iteración immediatamente anterior, hasta llegar a una lista de tamaño 1. "
      ]
    },
    {
      "metadata": {
        "id": "n5cKJd8LUF26",
        "colab_type": "code",
        "colab": {}
      },
      "cell_type": "code",
      "source": [
        "def closest_recursive_nd(listnd, closestPoints, minDistance):\n",
        "  if(len(listnd)==1):\n",
        "    return closestPoints, minDistance\n",
        "  else:\n",
        "    for index in range(1,len(listnd)-1):\n",
        "      if distance(listnd[0], listnd[index]) < minDistance:\n",
        "        minDistance = distance(listnd[0], listnd[index])\n",
        "        closestPoints = (listnd[0], listnd[index])\n",
        "    return closest_recursive_nd(listnd[1:], closestPoints, minDistance)"
      ],
      "execution_count": 0,
      "outputs": []
    },
    {
      "metadata": {
        "id": "lZeUQ_zvUVtJ",
        "colab_type": "code",
        "colab": {}
      },
      "cell_type": "code",
      "source": [
        "# Divide and Conquer nD\n",
        "@calcular_tiempo \n",
        "def divide_conquer_nd(listnd):\n",
        "  minDistance = 999999999999\n",
        "  closestPoints = (0, 0)\n",
        "  closestPoints, minDistance = closest_recursive_nd(listnd, closestPoints, minDistance)\n",
        "  print(\"Divide y vencerás - Los puntos más cercanos son: \" + str(closestPoints) + \", a una distancia de \" + str(minDistance))  "
      ],
      "execution_count": 0,
      "outputs": []
    },
    {
      "metadata": {
        "id": "87wP-VETPcs_",
        "colab_type": "text"
      },
      "cell_type": "markdown",
      "source": [
        "### Dimensión 1D\n",
        "\n",
        "Se genera una lista de tamaño 1D, formada por 700 elementos."
      ]
    },
    {
      "metadata": {
        "colab_type": "code",
        "outputId": "5a6bb732-4c2d-4a9f-d325-f5a55db92367",
        "id": "MISc4YFpUzRF",
        "colab": {
          "base_uri": "https://localhost:8080/",
          "height": 187
        }
      },
      "cell_type": "code",
      "source": [
        "import random\n",
        "\n",
        "list1d = [random.randrange(1, 100000000) for x in range(700)]\n",
        "print(\"Lista 1D:\")\n",
        "\n",
        "bf = brute_force_nd(list1d)\n",
        "bfi = brute_force_nd_improved(list1d)\n",
        "dc = divide_conquer_nd(list1d)"
      ],
      "execution_count": 18,
      "outputs": [
        {
          "output_type": "stream",
          "text": [
            "Lista 1D:\n",
            "Fuerza Bruta - Los puntos más cercanos son: (71361909, 71361840), a una distancia de 69\n",
            "Tiempo de ejecución para algoritmo: 0.24338650703430176\n",
            "\n",
            "Fuerza Bruta mejorada - Los puntos más cercanos son: (71361909, 71361840), a una distancia de 69\n",
            "Tiempo de ejecución para algoritmo: 0.10858917236328125\n",
            "\n",
            "Divide y vencerás - Los puntos más cercanos son: (71361909, 71361840), a una distancia de 69\n",
            "Tiempo de ejecución para algoritmo: 0.1147298812866211\n",
            "\n"
          ],
          "name": "stdout"
        }
      ]
    },
    {
      "metadata": {
        "id": "ZEpSmpT4PqGw",
        "colab_type": "text"
      },
      "cell_type": "markdown",
      "source": [
        "### Dimensión 2D\n",
        "\n",
        "Se genera una lista de tamaño 2D, formada por 700 elementos."
      ]
    },
    {
      "metadata": {
        "id": "VUDaicImVzsC",
        "colab_type": "code",
        "outputId": "dfef05f2-70ef-40c1-f557-3e429d7e36fd",
        "colab": {
          "base_uri": "https://localhost:8080/",
          "height": 187
        }
      },
      "cell_type": "code",
      "source": [
        "print(\"Lista 2D:\")\n",
        "list2d = [(random.randrange(1,10000), random.randrange(1,10000)) for x in range(700)]\n",
        "\n",
        "bf = brute_force_nd(list2d)\n",
        "bfi = brute_force_nd_improved(list2d)\n",
        "dc = divide_conquer_nd(list2d)"
      ],
      "execution_count": 19,
      "outputs": [
        {
          "output_type": "stream",
          "text": [
            "Lista 2D:\n",
            "Fuerza Bruta - Los puntos más cercanos son: ((4647, 9085), (4655, 9084)), a una distancia de 8.06225774829855\n",
            "Tiempo de ejecución para algoritmo: 0.7829313278198242\n",
            "\n",
            "Fuerza Bruta mejorada - Los puntos más cercanos son: ((4647, 9085), (4655, 9084)), a una distancia de 8.06225774829855\n",
            "Tiempo de ejecución para algoritmo: 0.3759791851043701\n",
            "\n",
            "Divide y vencerás - Los puntos más cercanos son: ((4647, 9085), (4655, 9084)), a una distancia de 8.06225774829855\n",
            "Tiempo de ejecución para algoritmo: 0.3848576545715332\n",
            "\n"
          ],
          "name": "stdout"
        }
      ]
    },
    {
      "metadata": {
        "id": "Ycb_-7eIPtHM",
        "colab_type": "text"
      },
      "cell_type": "markdown",
      "source": [
        "### Dimensión 3D\n",
        "\n",
        "Se genera una lista de tamaño 3D, formada por 700 elementos."
      ]
    },
    {
      "metadata": {
        "id": "V0a9GAw4V5aF",
        "colab_type": "code",
        "outputId": "3e533dc2-8d2b-4f63-ee74-982476cf8d91",
        "colab": {
          "base_uri": "https://localhost:8080/",
          "height": 187
        }
      },
      "cell_type": "code",
      "source": [
        "print(\"Lista 3D:\")\n",
        "list3d = [(random.randrange(1,10000), random.randrange(1,10000), random.randrange(1,10000)) for x in range(700)]\n",
        "\n",
        "bf = brute_force_nd(list3d)\n",
        "bfi = brute_force_nd_improved(list3d)\n",
        "dc = divide_conquer_nd(list3d)"
      ],
      "execution_count": 20,
      "outputs": [
        {
          "output_type": "stream",
          "text": [
            "Lista 3D:\n",
            "Fuerza Bruta - Los puntos más cercanos son: ((4464, 5536, 3387), (4496, 5441, 3369)), a una distancia de 101.84792585025971\n",
            "Tiempo de ejecución para algoritmo: 0.9890360832214355\n",
            "\n",
            "Fuerza Bruta mejorada - Los puntos más cercanos son: ((4464, 5536, 3387), (4496, 5441, 3369)), a una distancia de 101.84792585025971\n",
            "Tiempo de ejecución para algoritmo: 0.470963716506958\n",
            "\n",
            "Divide y vencerás - Los puntos más cercanos son: ((4464, 5536, 3387), (4496, 5441, 3369)), a una distancia de 101.84792585025971\n",
            "Tiempo de ejecución para algoritmo: 0.4759993553161621\n",
            "\n"
          ],
          "name": "stdout"
        }
      ]
    },
    {
      "metadata": {
        "id": "A4_1_Yc3Pwos",
        "colab_type": "text"
      },
      "cell_type": "markdown",
      "source": [
        "### Dimensión 10D\n",
        "\n",
        "Se genera una lista de tamaño 10D, formada por 700 elementos."
      ]
    },
    {
      "metadata": {
        "id": "g-egMFTFV9up",
        "colab_type": "code",
        "outputId": "6df3630b-18b4-4b05-d89d-69f9454d35c3",
        "colab": {
          "base_uri": "https://localhost:8080/",
          "height": 207
        }
      },
      "cell_type": "code",
      "source": [
        "print(\"Lista 10D:\")\n",
        "list10d = [(random.randrange(1,10000), random.randrange(1,10000), random.randrange(1,10000), random.randrange(1,10000), random.randrange(1,10000), random.randrange(1,10000), random.randrange(1,10000), random.randrange(1,10000), random.randrange(1,10000), random.randrange(1,10000)) for x in range(700)]\n",
        "\n",
        "bf = brute_force_nd(list10d)\n",
        "bfi = brute_force_nd_improved(list10d)\n",
        "dc = divide_conquer_nd(list10d)"
      ],
      "execution_count": 21,
      "outputs": [
        {
          "output_type": "stream",
          "text": [
            "Lista 10D:\n",
            "Fuerza Bruta - Los puntos más cercanos son: ((856, 2418, 1003, 47, 5498, 2495, 1805, 4315, 9643, 3889), (2386, 1570, 918, 564, 3624, 2651, 2299, 5209, 9887, 3626)), a una distancia de 2835.966678224552\n",
            "Tiempo de ejecución para algoritmo: 2.255692958831787\n",
            "\n",
            "Fuerza Bruta mejorada - Los puntos más cercanos son: ((856, 2418, 1003, 47, 5498, 2495, 1805, 4315, 9643, 3889), (2386, 1570, 918, 564, 3624, 2651, 2299, 5209, 9887, 3626)), a una distancia de 2835.966678224552\n",
            "Tiempo de ejecución para algoritmo: 1.1133460998535156\n",
            "\n",
            "Divide y vencerás - Los puntos más cercanos son: ((856, 2418, 1003, 47, 5498, 2495, 1805, 4315, 9643, 3889), (2386, 1570, 918, 564, 3624, 2651, 2299, 5209, 9887, 3626)), a una distancia de 2835.966678224552\n",
            "Tiempo de ejecución para algoritmo: 1.1204805374145508\n",
            "\n"
          ],
          "name": "stdout"
        }
      ]
    },
    {
      "metadata": {
        "id": "g1iBCGNLP12p",
        "colab_type": "text"
      },
      "cell_type": "markdown",
      "source": [
        "### Conclusiones\n",
        "\n",
        "En los tres casos, las soluciones obtenidas por el algoritmo son las mismas, lo que indica que el funcionamiento es correcto. La diferencia radica en la eficiencia, y por tanto, el tiempo de ejecución. \n",
        "\n",
        "Cualquiera que sea el tamaño de la lista, como era de esperar, el algoritmo de fuerza bruta obtiene el peor tiempo de ejecución de los tres, tardando aproximadamente el doble que los otros algoritmos. Por otro lado, la eficiencia del algoritmo de fuerza bruta mejorada y el de divide y vencerás es similar."
      ]
    }
  ]
}