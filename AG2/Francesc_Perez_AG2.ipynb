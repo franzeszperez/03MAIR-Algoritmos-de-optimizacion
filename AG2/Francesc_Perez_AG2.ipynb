{
  "nbformat": 4,
  "nbformat_minor": 0,
  "metadata": {
    "colab": {
      "name": "Francesc Perez - AG2.ipynb",
      "version": "0.3.2",
      "provenance": [],
      "collapsed_sections": [],
      "include_colab_link": true
    },
    "kernelspec": {
      "name": "python3",
      "display_name": "Python 3"
    }
  },
  "cells": [
    {
      "cell_type": "markdown",
      "metadata": {
        "id": "view-in-github",
        "colab_type": "text"
      },
      "source": [
        "<a href=\"https://colab.research.google.com/github/franzeszperez/03MAIR-Algoritmos-de-optimizacion/blob/master/AG2/Francesc_Perez_AG2.ipynb\" target=\"_parent\"><img src=\"https://colab.research.google.com/assets/colab-badge.svg\" alt=\"Open In Colab\"/></a>"
      ]
    },
    {
      "metadata": {
        "id": "hLnWDq8nfG1N",
        "colab_type": "text"
      },
      "cell_type": "markdown",
      "source": [
        "# AG1- Actividad Guiada 2\n",
        " \n",
        "## Francesc Pérez\n",
        "\n",
        "### URL: https://github.com/franzeszperez/03MAIR-Algoritmos-de-optimizacion/tree/master/AG2\n"
      ]
    },
    {
      "metadata": {
        "id": "_rvq8FIk6jhY",
        "colab_type": "code",
        "colab": {}
      },
      "cell_type": "code",
      "source": [
        "#Decorador para calcular_tiempo a la función para la cual queremos calcular el tiempo de ejecución(Isabel Vázquez)\n",
        "\n",
        "from time import time\n",
        "#Función para calcular el tiempo de ejecución\n",
        "def calcular_tiempo(f):\n",
        "   \n",
        "    def wrapper(*args, **kwargs):     \n",
        "        inicio = time()       \n",
        "        resultado = f(*args, **kwargs)       \n",
        "        tiempo = time() - inicio\n",
        "        print(\"Tiempo de ejecución para algoritmo: \"+str(tiempo))\n",
        "        return resultado\n",
        "    \n",
        "    return wrapper"
      ],
      "execution_count": 0,
      "outputs": []
    },
    {
      "metadata": {
        "id": "k9n1cA7bdIQo",
        "colab_type": "text"
      },
      "cell_type": "markdown",
      "source": [
        "### Algoritmo \"Dos Puntos Más Cercanos\""
      ]
    },
    {
      "metadata": {
        "id": "6h08CAF5Nmhn",
        "colab_type": "code",
        "colab": {}
      },
      "cell_type": "code",
      "source": [
        "# Función para calcular la distancia entre dos puntos de dimensión cualquiera\n",
        "import math\n",
        "def distancia(A, B):\n",
        "  dist = 0\n",
        "  if type(A) is int or type(A) is float or type(B) is int or type(B) is float:\n",
        "    # Si se entra aquí, el elemento es de 1D\n",
        "    dist = abs(A - B)\n",
        "  else:\n",
        "    # Si se entra aquí, el elemento es de más de 1D\n",
        "    for i in range(len(A)):\n",
        "      dist += (A[i] - B[i])**2\n",
        "    dist = math.sqrt(dist)\n",
        "  return dist"
      ],
      "execution_count": 0,
      "outputs": []
    },
    {
      "metadata": {
        "id": "4rlwhzKXfyrN",
        "colab_type": "code",
        "colab": {}
      },
      "cell_type": "code",
      "source": [
        "# Algoritmo de Fuerza Bruta\n",
        "import sys\n",
        "def distancia_fuerza_bruta(L):\n",
        "  MEJOR_DISTANCIA = sys.maxsize\n",
        "  PUNTOS_CERCANOS = ()\n",
        "  # Se guarda la longitud de la lista para usarla posteriormente.\n",
        "  LONG_LISTA = len(L)\n",
        "  for i in range(LONG_LISTA):\n",
        "    for j in range(i+1, LONG_LISTA):\n",
        "      # Se guarda la distancia del elemento i al elemento j, para usarla posteriormente.\n",
        "      DIST_IJ = distancia(L[i],L[j])\n",
        "      if DIST_IJ < MEJOR_DISTANCIA:\n",
        "        # La distancia del elemento i al j es menor a la mejor distancia encontrada\n",
        "        MEJOR_DISTANCIA = DIST_IJ\n",
        "        PUNTOS_CERCANOS = L[i], L[j]\n",
        "  return MEJOR_DISTANCIA, PUNTOS_CERCANOS\n",
        "\n",
        "@calcular_tiempo\n",
        "def ejecuta_fuerza_bruta(L):\n",
        "  D, P = distancia_fuerza_bruta(L)\n",
        "  print(\"Fuerza Bruta - Los puntos más cercanos son: \" + str(P) + \", a una distancia de \" + str(D))  "
      ],
      "execution_count": 0,
      "outputs": []
    },
    {
      "metadata": {
        "id": "oaLLc-DXn3N3",
        "colab_type": "code",
        "colab": {}
      },
      "cell_type": "code",
      "source": [
        "# Algoritmo Divide y Vencerás\n",
        "MAX_FUERZA_BRUTA = 3\n",
        "def distancia_divide_y_venceras(L):\n",
        "  if len(L) <= MAX_FUERZA_BRUTA:\n",
        "    return distancia_fuerza_bruta(L)\n",
        "  \n",
        "  # Se ordena la lista para obtener el punto central\n",
        "  L = sorted(L)\n",
        "  PUNTO_MEDIO = L[len(L)//2]\n",
        "  # Se divide la lista en dos mitades equilibradas\n",
        "  LISTA_IZQ = L[:len(L)//2]\n",
        "  LISTA_DER = L[len(L)//2:]\n",
        "  \n",
        "  # Se ejecuta la función recursiva sobre cada mitad de la lista\n",
        "  MIN_DIST_IZQ, PUNTOS_IZQ = distancia_divide_y_venceras(LISTA_IZQ)\n",
        "  MIN_DIST_DER, PUNTOS_DER = distancia_divide_y_venceras(LISTA_DER)\n",
        "  \n",
        "  # Se almacenan la distancia más pequeña, así como los puntos correspondientes \n",
        "  # a dicha distancia\n",
        "  MIN_DIST = ()\n",
        "  PUNTOS_MAS_CERCANOS = ()\n",
        "  if MIN_DIST_IZQ < MIN_DIST_DER:\n",
        "    MIN_DIST = MIN_DIST_IZQ\n",
        "    PUNTOS_MAS_CERCANOS = PUNTOS_IZQ\n",
        "  else:\n",
        "    MIN_DIST = MIN_DIST_DER\n",
        "    PUNTOS_MAS_CERCANOS = PUNTOS_DER\n",
        "  \n",
        "  # Se tienen en cuenta los puntos de la frontera, aquellos con distancia en la \n",
        "  # coordenada x menor a la distancia más pequeña encontrada hasta el momento.\n",
        "  PUNTOS_EXTREMOS = [PUNTO_MEDIO]\n",
        "  for i in range(len(L)):\n",
        "    DIFERENCIA = 0\n",
        "    if type(L[i]) is int or type(L[i]) is int:\n",
        "      DIFERENCIA = abs(L[i] - PUNTO_MEDIO)\n",
        "    else:\n",
        "      # Coordenada x\n",
        "      DIFERENCIA = abs(L[i][0] - PUNTO_MEDIO[0])\n",
        "      \n",
        "    if not(i==len(L)//2) and DIFERENCIA < MIN_DIST :\n",
        "      # Si hay un punto a una distancia menor, se añade a una lista, para ser \n",
        "      # usada luego.\n",
        "      PUNTOS_EXTREMOS.append(L[i])\n",
        "  \n",
        "  # Se ejecuta distancia_frontera para computar si la distancia entre los puntos\n",
        "  # de la frontera es menor a la distancia más pequeña.\n",
        "  DIST_FRONTERA, PUNTOS_FRONTERA = distancia_frontera(PUNTOS_EXTREMOS, MIN_DIST)\n",
        "  if DIST_FRONTERA < MIN_DIST:\n",
        "    # La distancia entre puntos de la frontera es menor.\n",
        "    return DIST_FRONTERA, PUNTOS_FRONTERA\n",
        "  else:\n",
        "    return MIN_DIST, PUNTOS_MAS_CERCANOS\n",
        "\n",
        "@calcular_tiempo\n",
        "def ejecuta_divide_y_venceras(L):\n",
        "  D, P = distancia_divide_y_venceras(L)\n",
        "  print(\"Divide y vencerás - Los puntos más cercanos son: \" + str(P) + \", a una distancia de \" + str(D))  "
      ],
      "execution_count": 0,
      "outputs": []
    },
    {
      "metadata": {
        "id": "BMa3RJpPAW_8",
        "colab_type": "code",
        "colab": {}
      },
      "cell_type": "code",
      "source": [
        "def distancia_frontera(PUNTOS_FRONTERA, MINIMO):\n",
        "  PUNTOS = ()\n",
        "  for i in range(len(PUNTOS_FRONTERA)):\n",
        "    for j in range(i+1, len(PUNTOS_FRONTERA)):\n",
        "      if distancia(PUNTOS_FRONTERA[i], PUNTOS_FRONTERA[j]) < MINIMO:\n",
        "        MINIMO = distancia(PUNTOS_FRONTERA[i], PUNTOS_FRONTERA[j])\n",
        "        PUNTOS = PUNTOS_FRONTERA[i], PUNTOS_FRONTERA[j]\n",
        "  return MINIMO, PUNTOS"
      ],
      "execution_count": 0,
      "outputs": []
    },
    {
      "metadata": {
        "id": "ANNU6z0aep3g",
        "colab_type": "code",
        "colab": {}
      },
      "cell_type": "code",
      "source": [
        "import random\n",
        "N =1000\n",
        "LISTA_1D = [(random.randrange(1, N*10)) for _ in range(N)]\n",
        "LISTA_2D = [(random.randrange(1, N*10), random.randrange(1, N*10)) for _ in range(N)]\n",
        "LISTA_3D = [(random.randrange(1, N*10), random.randrange(1, N*10), random.randrange(1, N*10)) for _ in range(N)]"
      ],
      "execution_count": 0,
      "outputs": []
    },
    {
      "metadata": {
        "id": "Xq3qti0DdwCn",
        "colab_type": "code",
        "colab": {
          "base_uri": "https://localhost:8080/",
          "height": 345
        },
        "outputId": "7d0749d4-9b21-4807-c8a8-60afb043b8c3"
      },
      "cell_type": "code",
      "source": [
        "print(\"Lista de 1D\")\n",
        "ejecuta_fuerza_bruta(LISTA_1D)\n",
        "ejecuta_divide_y_venceras(LISTA_1D)\n",
        "print()\n",
        "\n",
        "print(\"Lista de 2D\")\n",
        "ejecuta_fuerza_bruta(LISTA_2D)\n",
        "ejecuta_divide_y_venceras(LISTA_2D)\n",
        "print()\n",
        "\n",
        "print(\"Lista de 3D\")\n",
        "ejecuta_fuerza_bruta(LISTA_3D)\n",
        "ejecuta_divide_y_venceras(LISTA_3D)\n",
        "print()"
      ],
      "execution_count": 205,
      "outputs": [
        {
          "output_type": "stream",
          "text": [
            "Lista de 1D\n",
            "Fuerza Bruta - Los puntos más cercanos son: (8930, 8930), a una distancia de 0\n",
            "Tiempo de ejecución para algoritmo: 0.24639225006103516\n",
            "Divide y vencerás - Los puntos más cercanos son: (9919, 9919), a una distancia de 0\n",
            "Tiempo de ejecución para algoritmo: 0.0070040225982666016\n",
            "\n",
            "Lista de 2D\n",
            "Fuerza Bruta - Los puntos más cercanos son: ((8350, 3244), (8351, 3245)), a una distancia de 1.4142135623730951\n",
            "Tiempo de ejecución para algoritmo: 0.9339730739593506\n",
            "Divide y vencerás - Los puntos más cercanos son: ((8351, 3245), (8350, 3244)), a una distancia de 1.4142135623730951\n",
            "Tiempo de ejecución para algoritmo: 0.033707380294799805\n",
            "\n",
            "Lista de 3D\n",
            "Fuerza Bruta - Los puntos más cercanos son: ((3599, 1223, 8779), (3578, 1180, 8800)), a una distancia de 52.25897052181568\n",
            "Tiempo de ejecución para algoritmo: 1.1467490196228027\n",
            "Divide y vencerás - Los puntos más cercanos son: ((3578, 1180, 8800), (3599, 1223, 8779)), a una distancia de 52.25897052181568\n",
            "Tiempo de ejecución para algoritmo: 0.10282158851623535\n",
            "\n"
          ],
          "name": "stdout"
        }
      ]
    },
    {
      "metadata": {
        "id": "Q7eDst9Qg-0l",
        "colab_type": "text"
      },
      "cell_type": "markdown",
      "source": [
        "### Algoritmo \"Viaje por el Río\""
      ]
    },
    {
      "metadata": {
        "id": "IC1ZUnIlzTKf",
        "colab_type": "code",
        "outputId": "c21fb92a-b245-4c6f-fc9c-cfeb11c26dd6",
        "colab": {
          "base_uri": "https://localhost:8080/",
          "height": 72
        }
      },
      "cell_type": "code",
      "source": [
        "# Viaje por el río\n",
        "TARIFAS = [\n",
        "[0,5,4,3,999,999,999],\n",
        "[999,0,999,2,3,999,11],\n",
        "[999,999, 0,1,999,4,10],\n",
        "[999,999,999, 0,5,6,9],\n",
        "[999,999, 999,999,0,999,4],\n",
        "[999,999, 999,999,999,0,3],\n",
        "[999,999,999,999,999,999,0]\n",
        "]\n",
        "\n",
        "def precios(TARIFAS):\n",
        "  N = len(TARIFAS)\n",
        "  PRECIOS = [[9999]*N for i in [9999]*N]\n",
        "  RUTA = [[\"\"]*N for i in [9999]*N]\n",
        "  \n",
        "  for i in range(N-1):\n",
        "    for j in range(i+1, N):\n",
        "      MIN = TARIFAS[i][j]\n",
        "      RUTA[i][j] = i\n",
        "\n",
        "      for k in range(i,j):        \n",
        "        if(PRECIOS[i][k] + TARIFAS[k][j] < MIN):\n",
        "          MIN = PRECIOS[i][k] + TARIFAS[k][j]\n",
        "          RUTA[i][j] = k\n",
        "        PRECIOS[i][j] = MIN\n",
        "        \n",
        "  return PRECIOS, RUTA\n",
        "\n",
        "PRECIOS, RUTAS = precios(TARIFAS)\n",
        "\n",
        "def calcular_ruta(RUTA, desde, hasta):\n",
        "  if desde == hasta:\n",
        "    return desde \n",
        "  else:\n",
        "    return str(calcular_ruta(RUTA, desde, RUTA[desde][hasta])) +  ',' + str(RUTA[desde][hasta]) \n",
        "\n",
        "print(\"\\nLa ruta es:\")  \n",
        "calcular_ruta(RUTAS, 0,5)"
      ],
      "execution_count": 223,
      "outputs": [
        {
          "output_type": "stream",
          "text": [
            "\n",
            "La ruta es:\n"
          ],
          "name": "stdout"
        },
        {
          "output_type": "execute_result",
          "data": {
            "text/plain": [
              "'0,0,2'"
            ]
          },
          "metadata": {
            "tags": []
          },
          "execution_count": 223
        }
      ]
    }
  ]
}