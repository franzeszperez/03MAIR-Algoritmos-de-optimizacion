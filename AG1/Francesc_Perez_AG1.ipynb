{
  "nbformat": 4,
  "nbformat_minor": 0,
  "metadata": {
    "colab": {
      "name": "Francesc Perez - AG1.ipynb",
      "version": "0.3.2",
      "provenance": [],
      "collapsed_sections": [],
      "include_colab_link": true
    },
    "kernelspec": {
      "name": "python3",
      "display_name": "Python 3"
    }
  },
  "cells": [
    {
      "cell_type": "markdown",
      "metadata": {
        "id": "view-in-github",
        "colab_type": "text"
      },
      "source": [
        "<a href=\"https://colab.research.google.com/github/franzeszperez/03MAIR-Algoritmos-de-optimizacion/blob/master/AG1/Francesc_Perez_AG1.ipynb\" target=\"_parent\"><img src=\"https://colab.research.google.com/assets/colab-badge.svg\" alt=\"Open In Colab\"/></a>"
      ]
    },
    {
      "metadata": {
        "id": "hLnWDq8nfG1N",
        "colab_type": "text"
      },
      "cell_type": "markdown",
      "source": [
        "# AG1- Actividad Guiada 1\n",
        " \n",
        "## Francesc Pérez\n",
        "\n",
        "### URL: https://github.com/franzeszperez/03MAIR-Algoritmos-de-optimizacion/tree/master/AG1\n"
      ]
    },
    {
      "metadata": {
        "id": "_rvq8FIk6jhY",
        "colab_type": "code",
        "colab": {}
      },
      "cell_type": "code",
      "source": [
        "#Decorador para calcular_tiempo a la función para la cual queremos calcular el tiempo de ejecución(Isabel Vázquez)\n",
        "\n",
        "from time import time\n",
        "#Función para calcular el tiempo de ejecución\n",
        "def calcular_tiempo(f):\n",
        "   \n",
        "    def wrapper(*args, **kwargs):     \n",
        "        inicio = time()       \n",
        "        resultado = f(*args, **kwargs)       \n",
        "        tiempo = time() - inicio\n",
        "        print(\"Tiempo de ejecución para algoritmo: \"+str(tiempo))\n",
        "        return resultado\n",
        "    \n",
        "    return wrapper"
      ],
      "execution_count": 0,
      "outputs": []
    },
    {
      "metadata": {
        "id": "0s3ZIE5K1L4_",
        "colab_type": "code",
        "outputId": "13f71c17-af35-43ae-a0f7-c04e2f4b757f",
        "colab": {
          "base_uri": "https://localhost:8080/",
          "height": 85
        }
      },
      "cell_type": "code",
      "source": [
        "# Algoritmo de ordenación quick sort\n",
        "\n",
        "def quick_sort(full):\n",
        "  if len(full) == 1:\n",
        "    return full\n",
        "  \n",
        "  elif len(full) == 2:\n",
        "    return [min(full), max(full)]\n",
        "  \n",
        "  else:\n",
        "    \n",
        "    left = []\n",
        "    right = []\n",
        "    pivot = (full[0] + full[1] + full[2])/3\n",
        "    for i in full:\n",
        "      if i < pivot:\n",
        "        left.append(i)\n",
        "      else:\n",
        "        right.append(i)\n",
        "        \n",
        "    return quick_sort(left) + quick_sort(right)\n",
        "\n",
        "# Función dummy para calcular el tiempo de ejecución del programa global, y que\n",
        "# no aplique a la función recursiva\n",
        "@calcular_tiempo\n",
        "def quick_sort_no_time(list):\n",
        "  return quick_sort(list)\n",
        "\n",
        "\n",
        "A = [9187, 244, 4054, 9222, 8373, 4993, 5265, 5470, 4519, 7182, 2035, 3506, 4337, 7580, 2554, 2824, 8357, 4447, 7379]\n",
        "print(quick_sort_no_time(A))\n",
        "\n",
        "\n",
        "B = [10, 35, 25, 35, 10, 69]\n",
        "print(quick_sort_no_time(B))"
      ],
      "execution_count": 25,
      "outputs": [
        {
          "output_type": "stream",
          "text": [
            "Tiempo de ejecución para algoritmo: 3.337860107421875e-05\n",
            "[244, 2035, 2554, 2824, 3506, 4054, 4337, 4447, 4519, 4993, 5265, 5470, 7182, 7379, 7580, 8357, 8373, 9187, 9222]\n",
            "Tiempo de ejecución para algoritmo: 1.621246337890625e-05\n",
            "[10, 10, 25, 35, 35, 69]\n"
          ],
          "name": "stdout"
        }
      ]
    },
    {
      "metadata": {
        "id": "Rqd0nLvYCDQh",
        "colab_type": "code",
        "outputId": "51418c5f-bb0d-455e-9583-46d9a7740467",
        "colab": {
          "base_uri": "https://localhost:8080/",
          "height": 34
        }
      },
      "cell_type": "code",
      "source": [
        "# Algoritmo voraz\n",
        "\n",
        "sistema_monetario = [25, 10, 5, 1]\n",
        "\n",
        "def cambio_monedas(cantidad, sistema):\n",
        "  # Se hace esto para garantizar que el sistema monetario siempre estará ordenado.\n",
        "  sistema = sorted(sistema, reverse=True)\n",
        "  SOLUCION = [0 for i in range(len(sistema))]\n",
        "  VALOR_ACUMULADO = 0\n",
        "\n",
        "  for i in range(len(sistema)):\n",
        "    SOLUCION[i] = int((cantidad - VALOR_ACUMULADO)/sistema[i])\n",
        "   \n",
        "    VALOR_ACUMULADO += SOLUCION[i]*sistema[i]\n",
        "    \n",
        "    if (VALOR_ACUMULADO == cantidad):\n",
        "      return SOLUCION\n",
        "  \n",
        "cambio_monedas(217, sistema_monetario)\n"
      ],
      "execution_count": 23,
      "outputs": [
        {
          "output_type": "execute_result",
          "data": {
            "text/plain": [
              "[8, 1, 1, 2]"
            ]
          },
          "metadata": {
            "tags": []
          },
          "execution_count": 23
        }
      ]
    },
    {
      "metadata": {
        "id": "z5zBXyC4VfG2",
        "colab_type": "code",
        "outputId": "1b94a4b6-20a1-4f27-aa27-18cb9277fe36",
        "colab": {
          "base_uri": "https://localhost:8080/",
          "height": 68
        }
      },
      "cell_type": "code",
      "source": [
        "# Algoritmo backtracking\n",
        "\n",
        "N = 4\n",
        "solucion_inicial = [0 for i in range(N)]\n",
        "etapa = 0\n",
        "\n",
        "def reinas(nreinas, solucion, etapa):\n",
        "  \n",
        "  for i in range(1, nreinas+1):\n",
        "    solucion[etapa] = i\n",
        "    \n",
        "    if es_prometedora(solucion, etapa):\n",
        "      if etapa == nreinas-1:\n",
        "        print(solucion)\n",
        "      else:\n",
        "        reinas(nreinas, solucion, etapa+1)\n",
        "    else:\n",
        "      None\n",
        "      \n",
        "    solucion[etapa] = 0\n",
        "\n",
        "\n",
        "def es_prometedora(test_solucion, test_etapa):\n",
        "  for i in range(test_etapa+1):\n",
        "    if test_solucion.count(test_solucion[i]) > 1:\n",
        "      return False\n",
        "    \n",
        "    for j in range(i+1, test_etapa + 1):\n",
        "      if abs(i-j) == abs(test_solucion[i]-test_solucion[j]):\n",
        "        return False\n",
        "  return True\n",
        "\n",
        "print(reinas(N, solucion_inicial, etapa))"
      ],
      "execution_count": 24,
      "outputs": [
        {
          "output_type": "stream",
          "text": [
            "[2, 4, 1, 3]\n",
            "[3, 1, 4, 2]\n",
            "None\n"
          ],
          "name": "stdout"
        }
      ]
    }
  ]
}